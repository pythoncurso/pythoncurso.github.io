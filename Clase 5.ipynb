{
 "cells": [
  {
   "cell_type": "markdown",
   "metadata": {
    "slideshow": {
     "slide_type": "slide"
    }
   },
   "source": [
    "# Clase 5"
   ]
  },
  {
   "cell_type": "markdown",
   "metadata": {
    "slideshow": {
     "slide_type": "slide"
    }
   },
   "source": [
    "## Temas\n",
    "\n",
    "* Decorators\n",
    "* Más sobre orientación a objetos.\n",
    "    - Métodos y atributos de clase\n",
    "    - Clases abstractas\n",
    "* Enumerators\n",
    "* TDD: diseño guiado por pruebas.\n",
    "* ¡Práctica!"
   ]
  },
  {
   "cell_type": "markdown",
   "metadata": {
    "slideshow": {
     "slide_type": "slide"
    }
   },
   "source": [
    "## Repaso: Ciudadanos de primera clase\n",
    "\n",
    "* Las funciones en Python son ciudadanos de primera\n",
    "    - Pueden ser tratadas como cualquier tipo.\n",
    "    - Pueden ser asignadas a variables.\n",
    "    - Pueden ser pasadas como parámetro a otras funciones.\n",
    "    - Pueden ser devueltas por otras funciones."
   ]
  },
  {
   "cell_type": "markdown",
   "metadata": {
    "slideshow": {
     "slide_type": "subslide"
    }
   },
   "source": [
    "### Funciones de primera clase\n",
    "\n",
    "* **Recibir funciones**"
   ]
  },
  {
   "cell_type": "code",
   "execution_count": null,
   "metadata": {
    "collapsed": true
   },
   "outputs": [],
   "source": [
    "def foo(bar):\n",
    "    return bar + 1\n",
    "\n",
    "def call_fun_with_arg(fun, arg):\n",
    "    return fun(arg)\n",
    "\n",
    "call_fun_with_arg(foo, 3)"
   ]
  },
  {
   "cell_type": "markdown",
   "metadata": {
    "slideshow": {
     "slide_type": "subslide"
    }
   },
   "source": [
    "### Funciones de primera clase\n",
    "\n",
    "* **Crear funciones dentro de funciones**"
   ]
  },
  {
   "cell_type": "code",
   "execution_count": 3,
   "metadata": {},
   "outputs": [
    {
     "name": "stdout",
     "output_type": "stream",
     "text": [
      "Printing from the parent() function.\n",
      "Printing from the first_child() function.\n",
      "Printing from the second_child() function.\n"
     ]
    }
   ],
   "source": [
    "def parent():\n",
    "    print(\"Printing from the parent() function.\")\n",
    "\n",
    "    def first_child():\n",
    "        return \"Printing from the first_child() function.\"\n",
    "\n",
    "    def second_child():\n",
    "        return \"Printing from the second_child() function.\"\n",
    "\n",
    "    print(first_child())\n",
    "    print(second_child())\n",
    "    \n",
    "parent()\n",
    "#Llamar a funciones definidas internamente falla\n",
    "#first_child()"
   ]
  },
  {
   "cell_type": "markdown",
   "metadata": {},
   "source": [
    "Nota: Estas funciones se llaman *Nested Functions*, en standard C no se permiten este tipo de funciones (aunque el compilador `gcc` agrega esta extensión de lenguaje)"
   ]
  },
  {
   "cell_type": "markdown",
   "metadata": {
    "slideshow": {
     "slide_type": "subslide"
    }
   },
   "source": [
    "### Funciones de primera clase\n",
    "\n",
    "* **Devolver nested-functions**"
   ]
  },
  {
   "cell_type": "code",
   "execution_count": 6,
   "metadata": {},
   "outputs": [
    {
     "name": "stdout",
     "output_type": "stream",
     "text": [
      "Printing from the first_child() function.\n"
     ]
    }
   ],
   "source": [
    "def parent(num):\n",
    "\n",
    "    def first_child():\n",
    "        return \"Printing from the first_child() function.\"\n",
    "\n",
    "    def second_child():\n",
    "        return \"Printing from the second_child() function.\"\n",
    "\n",
    "    if num == 10:\n",
    "        return first_child\n",
    "    else:\n",
    "        return second_child\n",
    "    \n",
    "ret_fun = parent(10)\n",
    "print ret_fun()"
   ]
  },
  {
   "cell_type": "markdown",
   "metadata": {
    "slideshow": {
     "slide_type": "slide"
    }
   },
   "source": [
    "## Decorators\n",
    "\n",
    "* Definición: Función que toma una función y extiende el comportamiento de la función sin modificarla explicitamente.\n",
    "\n",
    "* Esto es posible debido a que las funciones son ciudadanas de primera clase (*first-class citizen*).\n",
    "\n",
    "**Nota: Existe un patrón de diseño en POO que se llama *Decorator Pattern* y permite agregar comportamiento a un objeto.**\n"
   ]
  },
  {
   "cell_type": "markdown",
   "metadata": {
    "slideshow": {
     "slide_type": "subslide"
    }
   },
   "source": [
    "### Ejemplo de Decorator"
   ]
  },
  {
   "cell_type": "code",
   "execution_count": 8,
   "metadata": {
    "slideshow": {
     "slide_type": "-"
    }
   },
   "outputs": [
    {
     "name": "stdout",
     "output_type": "stream",
     "text": [
      "Something is happening before some_function() is called.\n",
      "Wheee!\n",
      "Something is happening after some_function() is called.\n"
     ]
    }
   ],
   "source": [
    "def my_decorator(some_function):\n",
    "\n",
    "    def wrapper():\n",
    "        print(\"Something is happening before some_function() is called.\")\n",
    "        some_function()\n",
    "        print(\"Something is happening after some_function() is called.\")\n",
    "\n",
    "    return wrapper\n",
    "\n",
    "def just_some_function():\n",
    "    print(\"Wheee!\")\n",
    "\n",
    "just_some_function = my_decorator(just_some_function)\n",
    " \n",
    "just_some_function()"
   ]
  },
  {
   "cell_type": "markdown",
   "metadata": {
    "slideshow": {
     "slide_type": "subslide"
    }
   },
   "source": [
    "### Sintaxis de `Decorator`"
   ]
  },
  {
   "cell_type": "code",
   "execution_count": 19,
   "metadata": {},
   "outputs": [
    {
     "name": "stdout",
     "output_type": "stream",
     "text": [
      "Something is happening before some_function() is called.\n",
      "Wheee! 10\n",
      "Something is happening after some_function() is called.\n"
     ]
    }
   ],
   "source": [
    "def my_decorator(some_function):\n",
    "\n",
    "    def wrapper(*args):\n",
    "        print(\"Something is happening before some_function() is called.\")\n",
    "        some_function(*args)\n",
    "        print(\"Something is happening after some_function() is called.\")\n",
    "\n",
    "    return wrapper\n",
    "\n",
    "\n",
    "@my_decorator\n",
    "def just_some_function(n):\n",
    "    print(\"Wheee! \" + str(n))\n",
    "\n",
    "just_some_function(10)"
   ]
  },
  {
   "cell_type": "markdown",
   "metadata": {
    "slideshow": {
     "slide_type": "subslide"
    }
   },
   "source": [
    "### Sintaxis de `Decorator`\n",
    "\n",
    "`\n",
    "@decorator\n",
    "def funcion():\n",
    "`\n",
    "\n",
    "Equivale a:\n",
    "\n",
    "`\n",
    "funcion = decorator(funcion)\n",
    "`"
   ]
  },
  {
   "cell_type": "markdown",
   "metadata": {
    "slideshow": {
     "slide_type": "subslide"
    }
   },
   "source": [
    "### Volviendo a la Clase pasada, veamos como funciona `property`...\n",
    "\n",
    "```\n",
    "jmp Clase 4\n",
    "```"
   ]
  },
  {
   "cell_type": "markdown",
   "metadata": {
    "slideshow": {
     "slide_type": "subslide"
    }
   },
   "source": [
    "### Ejercicio 5.1\n",
    "\n",
    "Escribir un decorator timing_function que permita agregar una impresión del tiempo en que tarda en correr una función.\n",
    "\n",
    "Usar el método `time` de la librería `time()`.\n",
    "\n",
    "```Python\n",
    "from time import time\n",
    "time()\n",
    "```"
   ]
  },
  {
   "cell_type": "markdown",
   "metadata": {
    "slideshow": {
     "slide_type": "subslide"
    }
   },
   "source": [
    "### Solución 5.1"
   ]
  },
  {
   "cell_type": "code",
   "execution_count": 22,
   "metadata": {},
   "outputs": [
    {
     "name": "stdout",
     "output_type": "stream",
     "text": [
      "\n",
      "Sum of all the numbers: 49999995000000\n"
     ]
    },
    {
     "data": {
      "text/plain": [
       "'Time it took to run the function: 1.01930785179'"
      ]
     },
     "execution_count": 22,
     "metadata": {},
     "output_type": "execute_result"
    }
   ],
   "source": [
    "from time import time\n",
    "\n",
    "def timing_function(some_function):\n",
    "\n",
    "    \"\"\"\n",
    "    Outputs the time a function takes\n",
    "    to execute.\n",
    "    \"\"\"\n",
    "\n",
    "    def wrapper():\n",
    "        t1 = time()\n",
    "        some_function()\n",
    "        t2 = time()\n",
    "        return \"Time it took to run the function: \" + str((t2 - t1))\n",
    "    return wrapper\n",
    "\n",
    "\n",
    "@timing_function\n",
    "def my_function():\n",
    "    num_list = []\n",
    "    for num in (range(0, 10000000)):\n",
    "        num_list.append(num)\n",
    "    print(\"\\nSum of all the numbers: \" + str((sum(num_list))))\n",
    "    \n",
    "my_function()"
   ]
  },
  {
   "cell_type": "markdown",
   "metadata": {
    "slideshow": {
     "slide_type": "slide"
    }
   },
   "source": [
    "## Atributos de instancia y de clase\n",
    "\n",
    "![](img/python-instance-vs-class-attribute.png)\n",
    "\n",
    "*Fuente: https://www.toptal.com/python/python-class-attributes-an-overly-thorough-guide*"
   ]
  },
  {
   "cell_type": "code",
   "execution_count": 47,
   "metadata": {
    "collapsed": true,
    "slideshow": {
     "slide_type": "subslide"
    }
   },
   "outputs": [],
   "source": [
    "class ClaseDePrueba(object):\n",
    "    atributo_de_clase = 0\n",
    "    def __init__(self, atributo_de_instancia):\n",
    "        self.atributo_de_instancia = atributo_de_instancia"
   ]
  },
  {
   "cell_type": "code",
   "execution_count": 48,
   "metadata": {
    "slideshow": {
     "slide_type": "fragment"
    }
   },
   "outputs": [
    {
     "name": "stdout",
     "output_type": "stream",
     "text": [
      "0\n"
     ]
    }
   ],
   "source": [
    "# Atributo de clase se busca en ClaseDePrueba.__dict__, se encuentra.\n",
    "print ClaseDePrueba.atributo_de_clase"
   ]
  },
  {
   "cell_type": "code",
   "execution_count": 49,
   "metadata": {
    "slideshow": {
     "slide_type": "fragment"
    }
   },
   "outputs": [
    {
     "name": "stdout",
     "output_type": "stream",
     "text": [
      "9\n"
     ]
    }
   ],
   "source": [
    "instancia_de_prueba = ClaseDePrueba(9)\n",
    "# Atributo de instancia se busca en instancia_de_prueba.__dict__, se encuentra.\n",
    "print instancia_de_prueba.atributo_de_instancia "
   ]
  },
  {
   "cell_type": "code",
   "execution_count": 50,
   "metadata": {
    "slideshow": {
     "slide_type": "fragment"
    }
   },
   "outputs": [
    {
     "name": "stdout",
     "output_type": "stream",
     "text": [
      "0\n"
     ]
    }
   ],
   "source": [
    "# Atributo de clase se busca en instancia_de_prueba.__dict__, no se encuentra;\n",
    "# entonces se busca en ClaseDePrueba.__dict__\n",
    "print instancia_de_prueba.atributo_de_clase "
   ]
  },
  {
   "cell_type": "code",
   "execution_count": 51,
   "metadata": {
    "slideshow": {
     "slide_type": "fragment"
    }
   },
   "outputs": [
    {
     "name": "stdout",
     "output_type": "stream",
     "text": [
      "1\n"
     ]
    }
   ],
   "source": [
    "instancia_de_prueba.atributo_de_clase = 1\n",
    "# Atributo de clase se busca en instancia_de_prueba.__dict__, se encuentra.\n",
    "print instancia_de_prueba.atributo_de_clase"
   ]
  },
  {
   "cell_type": "code",
   "execution_count": 52,
   "metadata": {
    "slideshow": {
     "slide_type": "fragment"
    }
   },
   "outputs": [
    {
     "name": "stdout",
     "output_type": "stream",
     "text": [
      "0\n"
     ]
    }
   ],
   "source": [
    "print ClaseDePrueba.atributo_de_clase"
   ]
  },
  {
   "cell_type": "code",
   "execution_count": 53,
   "metadata": {
    "slideshow": {
     "slide_type": "subslide"
    }
   },
   "outputs": [
    {
     "name": "stdout",
     "output_type": "stream",
     "text": [
      "1\n"
     ]
    }
   ],
   "source": [
    "ClaseDePrueba.atributo_de_clase = 123\n",
    "print instancia_de_prueba.atributo_de_clase"
   ]
  },
  {
   "cell_type": "code",
   "execution_count": 54,
   "metadata": {
    "slideshow": {
     "slide_type": "fragment"
    }
   },
   "outputs": [
    {
     "name": "stdout",
     "output_type": "stream",
     "text": [
      "123\n"
     ]
    }
   ],
   "source": [
    "instancia_de_prueba2 = ClaseDePrueba(0)\n",
    "print instancia_de_prueba2.atributo_de_clase"
   ]
  },
  {
   "cell_type": "markdown",
   "metadata": {
    "slideshow": {
     "slide_type": "slide"
    }
   },
   "source": [
    "## Métodos de instancia, de clase y estáticos"
   ]
  },
  {
   "cell_type": "code",
   "execution_count": 55,
   "metadata": {
    "collapsed": true
   },
   "outputs": [],
   "source": [
    "class ClaseDePrueba(object):\n",
    "    \n",
    "    def metodo_de_instancia(self):\n",
    "        print \"En metodo de instancia\"\n",
    "    \n",
    "    @classmethod\n",
    "    def metodo_de_clase(cls):\n",
    "        print \"En metodo de clase\"\n",
    "        \n",
    "    @staticmethod\n",
    "    def metodo_de_clase_estatico():\n",
    "        print \"En metodo de clase estatico\""
   ]
  },
  {
   "cell_type": "code",
   "execution_count": 58,
   "metadata": {
    "slideshow": {
     "slide_type": "subslide"
    }
   },
   "outputs": [
    {
     "name": "stdout",
     "output_type": "stream",
     "text": [
      "En metodo de clase\n",
      "En metodo de clase estatico\n",
      "En metodo de instancia\n",
      "En metodo de clase\n",
      "En metodo de clase estatico\n"
     ]
    }
   ],
   "source": [
    "# Rompe!        \n",
    "#ClaseDePrueba.metodo_de_instancia()\n",
    "ClaseDePrueba.metodo_de_clase()\n",
    "ClaseDePrueba.metodo_de_clase_estatico()\n",
    "\n",
    "instancia = ClaseDePrueba()\n",
    "instancia.metodo_de_instancia()\n",
    "instancia.metodo_de_clase()\n",
    "instancia.metodo_de_clase_estatico()"
   ]
  },
  {
   "cell_type": "markdown",
   "metadata": {
    "slideshow": {
     "slide_type": "subslide"
    }
   },
   "source": [
    "### `@staticmethod` vs `@classmethod`\n",
    "\n",
    "* Ambos tipos de métodos se identifican con la clase, no con una instancia de la misma.\n",
    "* No requieren que se cree una instancia, por lo que no dependen del estado del objeto.\n",
    "* Se diferencian en que:\n",
    "    * Los métodos estáticos no tienen ningun conocimiento de la clase, solo manejan los parámetros. Es como una función encapsulada en la clase.\n",
    "    * Los métodos de clase trabajan con la clase, dado que siempre la recibe por parámetro."
   ]
  },
  {
   "cell_type": "markdown",
   "metadata": {
    "slideshow": {
     "slide_type": "slide"
    }
   },
   "source": [
    "## Clases abstractas\n",
    "\n",
    "* Clases con métodos no implementados que no se pueden instanciar."
   ]
  },
  {
   "cell_type": "markdown",
   "metadata": {
    "slideshow": {
     "slide_type": "subslide"
    }
   },
   "source": [
    "Hasta ahora podemos simular el comportamiento de clases abstractas:"
   ]
  },
  {
   "cell_type": "markdown",
   "metadata": {
    "slideshow": {
     "slide_type": "fragment"
    }
   },
   "source": [
    "```Python\n",
    "class BaseAbstracta:\n",
    "    def metodo_heredado(self):\n",
    "        print(\"Método heredado en Base.\")\n",
    "    \n",
    "    def metodo_sin_parametros(self):\n",
    "        raise NotImplementedError\n",
    "              \n",
    "    @staticmethod\n",
    "    def metodo_estatico():\n",
    "        raise NotImplementedError\n",
    "```"
   ]
  },
  {
   "cell_type": "markdown",
   "metadata": {
    "slideshow": {
     "slide_type": "subslide"
    }
   },
   "source": [
    "### ¿Qué desventaja tiene?"
   ]
  },
  {
   "cell_type": "markdown",
   "metadata": {
    "slideshow": {
     "slide_type": "fragment"
    }
   },
   "source": [
    "¡Si falta implementar algún método nos enteramos en tiempo de ejecución!"
   ]
  },
  {
   "cell_type": "markdown",
   "metadata": {
    "slideshow": {
     "slide_type": "subslide"
    }
   },
   "source": [
    "### ¿Cómo lo solucionamos?"
   ]
  },
  {
   "cell_type": "markdown",
   "metadata": {
    "slideshow": {
     "slide_type": "fragment"
    }
   },
   "source": [
    "Python introduce la `AbstractBaseClass` que podemos importar del módulo abc"
   ]
  },
  {
   "cell_type": "code",
   "execution_count": 59,
   "metadata": {
    "slideshow": {
     "slide_type": "fragment"
    }
   },
   "outputs": [
    {
     "name": "stdout",
     "output_type": "stream",
     "text": [
      "Help on module abc:\n",
      "\n",
      "NAME\n",
      "    abc - Abstract Base Classes (ABCs) according to PEP 3119.\n",
      "\n",
      "FILE\n",
      "    /Library/Frameworks/Python.framework/Versions/2.7/lib/python2.7/abc.py\n",
      "\n",
      "MODULE DOCS\n",
      "    https://docs.python.org/library/abc\n",
      "\n",
      "CLASSES\n",
      "    __builtin__.property(__builtin__.object)\n",
      "        abstractproperty\n",
      "    __builtin__.type(__builtin__.object)\n",
      "        ABCMeta\n",
      "    \n",
      "    class ABCMeta(__builtin__.type)\n",
      "     |  Metaclass for defining Abstract Base Classes (ABCs).\n",
      "     |  \n",
      "     |  Use this metaclass to create an ABC.  An ABC can be subclassed\n",
      "     |  directly, and then acts as a mix-in class.  You can also register\n",
      "     |  unrelated concrete classes (even built-in classes) and unrelated\n",
      "     |  ABCs as 'virtual subclasses' -- these and their descendants will\n",
      "     |  be considered subclasses of the registering ABC by the built-in\n",
      "     |  issubclass() function, but the registering ABC won't show up in\n",
      "     |  their MRO (Method Resolution Order) nor will method\n",
      "     |  implementations defined by the registering ABC be callable (not\n",
      "     |  even via super()).\n",
      "     |  \n",
      "     |  Method resolution order:\n",
      "     |      ABCMeta\n",
      "     |      __builtin__.type\n",
      "     |      __builtin__.object\n",
      "     |  \n",
      "     |  Methods defined here:\n",
      "     |  \n",
      "     |  __instancecheck__(cls, instance)\n",
      "     |      Override for isinstance(instance, cls).\n",
      "     |  \n",
      "     |  __subclasscheck__(cls, subclass)\n",
      "     |      Override for issubclass(subclass, cls).\n",
      "     |  \n",
      "     |  register(cls, subclass)\n",
      "     |      Register a virtual subclass of an ABC.\n",
      "     |  \n",
      "     |  ----------------------------------------------------------------------\n",
      "     |  Static methods defined here:\n",
      "     |  \n",
      "     |  __new__(mcls, name, bases, namespace)\n",
      "     |  \n",
      "     |  ----------------------------------------------------------------------\n",
      "     |  Methods inherited from __builtin__.type:\n",
      "     |  \n",
      "     |  __call__(...)\n",
      "     |      x.__call__(...) <==> x(...)\n",
      "     |  \n",
      "     |  __delattr__(...)\n",
      "     |      x.__delattr__('name') <==> del x.name\n",
      "     |  \n",
      "     |  __eq__(...)\n",
      "     |      x.__eq__(y) <==> x==y\n",
      "     |  \n",
      "     |  __ge__(...)\n",
      "     |      x.__ge__(y) <==> x>=y\n",
      "     |  \n",
      "     |  __getattribute__(...)\n",
      "     |      x.__getattribute__('name') <==> x.name\n",
      "     |  \n",
      "     |  __gt__(...)\n",
      "     |      x.__gt__(y) <==> x>y\n",
      "     |  \n",
      "     |  __hash__(...)\n",
      "     |      x.__hash__() <==> hash(x)\n",
      "     |  \n",
      "     |  __init__(...)\n",
      "     |      x.__init__(...) initializes x; see help(type(x)) for signature\n",
      "     |  \n",
      "     |  __le__(...)\n",
      "     |      x.__le__(y) <==> x<=y\n",
      "     |  \n",
      "     |  __lt__(...)\n",
      "     |      x.__lt__(y) <==> x<y\n",
      "     |  \n",
      "     |  __ne__(...)\n",
      "     |      x.__ne__(y) <==> x!=y\n",
      "     |  \n",
      "     |  __repr__(...)\n",
      "     |      x.__repr__() <==> repr(x)\n",
      "     |  \n",
      "     |  __setattr__(...)\n",
      "     |      x.__setattr__('name', value) <==> x.name = value\n",
      "     |  \n",
      "     |  __subclasses__(...)\n",
      "     |      __subclasses__() -> list of immediate subclasses\n",
      "     |  \n",
      "     |  mro(...)\n",
      "     |      mro() -> list\n",
      "     |      return a type's method resolution order\n",
      "     |  \n",
      "     |  ----------------------------------------------------------------------\n",
      "     |  Data descriptors inherited from __builtin__.type:\n",
      "     |  \n",
      "     |  __abstractmethods__\n",
      "     |  \n",
      "     |  __base__\n",
      "     |  \n",
      "     |  __bases__\n",
      "     |  \n",
      "     |  __basicsize__\n",
      "     |  \n",
      "     |  __dict__\n",
      "     |  \n",
      "     |  __dictoffset__\n",
      "     |  \n",
      "     |  __flags__\n",
      "     |  \n",
      "     |  __itemsize__\n",
      "     |  \n",
      "     |  __mro__\n",
      "     |  \n",
      "     |  __weakrefoffset__\n",
      "    \n",
      "    class abstractproperty(__builtin__.property)\n",
      "     |  A decorator indicating abstract properties.\n",
      "     |  \n",
      "     |  Requires that the metaclass is ABCMeta or derived from it.  A\n",
      "     |  class that has a metaclass derived from ABCMeta cannot be\n",
      "     |  instantiated unless all of its abstract properties are overridden.\n",
      "     |  The abstract properties can be called using any of the normal\n",
      "     |  'super' call mechanisms.\n",
      "     |  \n",
      "     |  Usage:\n",
      "     |  \n",
      "     |      class C:\n",
      "     |          __metaclass__ = ABCMeta\n",
      "     |          @abstractproperty\n",
      "     |          def my_abstract_property(self):\n",
      "     |              ...\n",
      "     |  \n",
      "     |  This defines a read-only property; you can also define a read-write\n",
      "     |  abstract property using the 'long' form of property declaration:\n",
      "     |  \n",
      "     |      class C:\n",
      "     |          __metaclass__ = ABCMeta\n",
      "     |          def getx(self): ...\n",
      "     |          def setx(self, value): ...\n",
      "     |          x = abstractproperty(getx, setx)\n",
      "     |  \n",
      "     |  Method resolution order:\n",
      "     |      abstractproperty\n",
      "     |      __builtin__.property\n",
      "     |      __builtin__.object\n",
      "     |  \n",
      "     |  Data descriptors defined here:\n",
      "     |  \n",
      "     |  __dict__\n",
      "     |      dictionary for instance variables (if defined)\n",
      "     |  \n",
      "     |  __weakref__\n",
      "     |      list of weak references to the object (if defined)\n",
      "     |  \n",
      "     |  ----------------------------------------------------------------------\n",
      "     |  Data and other attributes defined here:\n",
      "     |  \n",
      "     |  __isabstractmethod__ = True\n",
      "     |  \n",
      "     |  ----------------------------------------------------------------------\n",
      "     |  Methods inherited from __builtin__.property:\n",
      "     |  \n",
      "     |  __delete__(...)\n",
      "     |      descr.__delete__(obj)\n",
      "     |  \n",
      "     |  __get__(...)\n",
      "     |      descr.__get__(obj[, type]) -> value\n",
      "     |  \n",
      "     |  __getattribute__(...)\n",
      "     |      x.__getattribute__('name') <==> x.name\n",
      "     |  \n",
      "     |  __init__(...)\n",
      "     |      x.__init__(...) initializes x; see help(type(x)) for signature\n",
      "     |  \n",
      "     |  __set__(...)\n",
      "     |      descr.__set__(obj, value)\n",
      "     |  \n",
      "     |  deleter(...)\n",
      "     |      Descriptor to change the deleter on a property.\n",
      "     |  \n",
      "     |  getter(...)\n",
      "     |      Descriptor to change the getter on a property.\n",
      "     |  \n",
      "     |  setter(...)\n",
      "     |      Descriptor to change the setter on a property.\n",
      "     |  \n",
      "     |  ----------------------------------------------------------------------\n",
      "     |  Data descriptors inherited from __builtin__.property:\n",
      "     |  \n",
      "     |  fdel\n",
      "     |  \n",
      "     |  fget\n",
      "     |  \n",
      "     |  fset\n",
      "     |  \n",
      "     |  ----------------------------------------------------------------------\n",
      "     |  Data and other attributes inherited from __builtin__.property:\n",
      "     |  \n",
      "     |  __new__ = <built-in method __new__ of type object>\n",
      "     |      T.__new__(S, ...) -> a new object with type S, a subtype of T\n",
      "\n",
      "FUNCTIONS\n",
      "    abstractmethod(funcobj)\n",
      "        A decorator indicating abstract methods.\n",
      "        \n",
      "        Requires that the metaclass is ABCMeta or derived from it.  A\n",
      "        class that has a metaclass derived from ABCMeta cannot be\n",
      "        instantiated unless all of its abstract methods are overridden.\n",
      "        The abstract methods can be called using any of the normal\n",
      "        'super' call mechanisms.\n",
      "        \n",
      "        Usage:\n",
      "        \n",
      "            class C:\n",
      "                __metaclass__ = ABCMeta\n",
      "                @abstractmethod\n",
      "                def my_abstract_method(self, ...):\n",
      "                    ...\n",
      "\n",
      "\n"
     ]
    }
   ],
   "source": [
    "import abc\n",
    "help(abc)"
   ]
  },
  {
   "cell_type": "markdown",
   "metadata": {
    "slideshow": {
     "slide_type": "subslide"
    }
   },
   "source": [
    "```Python\n",
    "from abc import ABCMeta, abstractmethod\n",
    "\n",
    "class BaseAbstracta:\n",
    "    __metaclass__  = ABCMeta\n",
    "   \n",
    "    def metodo_heredado(self):\n",
    "        print(\"Método heredado en Base.\")\n",
    "               \n",
    "    @abstractmethod\n",
    "    def metodo_sin_parametros(self):\n",
    "        print(\"Método sin parámetros en Base.\")\n",
    "        \n",
    "    @staticmethod\n",
    "    @abstractmethod\n",
    "    def metodo_estatico():\n",
    "        print(\"Método estático en Base.\")\n",
    "```"
   ]
  },
  {
   "cell_type": "markdown",
   "metadata": {
    "slideshow": {
     "slide_type": "subslide"
    }
   },
   "source": [
    "### Una Comparación"
   ]
  },
  {
   "cell_type": "code",
   "execution_count": null,
   "metadata": {
    "collapsed": true,
    "slideshow": {
     "slide_type": "subslide"
    }
   },
   "outputs": [],
   "source": [
    "class BaseAbstracta:\n",
    "\n",
    "    def metodo_heredado(self):\n",
    "        print(\"Método heredado en Base.\")\n",
    "\n",
    "    def metodo_sin_parametros(self):\n",
    "        raise NotImplementedError\n",
    "    \n",
    "    @staticmethod\n",
    "    def metodo_estatico():\n",
    "        raise NotImplementedError\n",
    "\n",
    "    @property\n",
    "    def atributo(self):\n",
    "        raise NotImplementedError\n",
    "\n",
    "    @atributo.setter\n",
    "    def atributo(self, valor):\n",
    "        raise NotImplementedError\n",
    "    \n"
   ]
  },
  {
   "cell_type": "code",
   "execution_count": null,
   "metadata": {
    "collapsed": true,
    "slideshow": {
     "slide_type": "subslide"
    }
   },
   "outputs": [],
   "source": [
    "class DerivadaConcreta(BaseAbstracta):\n",
    "\n",
    "    @staticmethod\n",
    "    def metodo_estatico():\n",
    "        print(\"Método estático en Derivada.\")\n",
    "\n",
    "    @property\n",
    "    def atributo(self):\n",
    "        print(\"Property getter en Derivada.\")\n",
    "\n",
    "    @atributo.setter\n",
    "    def atributo(self, valor):\n",
    "        print(\"Property setter en Derivada:\", str(valor))"
   ]
  },
  {
   "cell_type": "code",
   "execution_count": null,
   "metadata": {
    "collapsed": true,
    "slideshow": {
     "slide_type": "subslide"
    }
   },
   "outputs": [],
   "source": [
    "\n",
    "from abc import ABCMeta, abstractmethod\n",
    "\n",
    "class BaseAbstracta():\n",
    "    \n",
    "    __metaclass__  = ABCMeta\n",
    "\n",
    "    def metodo_heredado(self):\n",
    "        print(\"Método heredado en Base.\")\n",
    "\n",
    "    @abstractmethod\n",
    "    def metodo_sin_parametros(self):\n",
    "        print(\"Método sin parámetros en Base.\")\n",
    "    \n",
    "    @staticmethod\n",
    "    @abstractmethod\n",
    "    def metodo_estatico():\n",
    "        print(\"Método estático en Base.\")\n",
    "\n",
    "    @property\n",
    "    @abstractmethod\n",
    "    def atributo(self):\n",
    "        print(\"Property getter en Base.\")\n",
    "\n",
    "    @atributo.setter\n",
    "    @abstractmethod\n",
    "    def atributo(self, valor):\n",
    "        print(\"Property setter en Base:\", str(valor))\n",
    "    \n"
   ]
  },
  {
   "cell_type": "code",
   "execution_count": null,
   "metadata": {
    "collapsed": true,
    "slideshow": {
     "slide_type": "subslide"
    }
   },
   "outputs": [],
   "source": [
    "class DerivadaConcreta(BaseAbstracta):\n",
    "\n",
    "    def metodo_sin_parametros(self):\n",
    "        print(\"Método sin parámetros en Derivada.\")\n",
    "\n",
    "    def metodo_estatico():\n",
    "        print(\"Método estático en Derivada.\")\n",
    "\n",
    "    @property\n",
    "    def atributo(self):\n",
    "        print(\"Property getter en Derivada.\")\n",
    "\n",
    "    @atributo.setter\n",
    "    def atributo(self, valor):\n",
    "        print(\"Property setter en Derivada:\", str(valor))"
   ]
  },
  {
   "cell_type": "markdown",
   "metadata": {
    "slideshow": {
     "slide_type": "subslide"
    }
   },
   "source": [
    "### Veamos un ejemplo"
   ]
  },
  {
   "cell_type": "code",
   "execution_count": 71,
   "metadata": {
    "collapsed": true,
    "slideshow": {
     "slide_type": "fragment"
    }
   },
   "outputs": [],
   "source": [
    "from abc import ABCMeta, abstractmethod\n",
    "\n",
    "class Instrumento:\n",
    "    __metaclass__ = ABCMeta\n",
    "    \n",
    "    @abstractmethod\n",
    "    def tocar(self):\n",
    "        pass\n",
    "    \n",
    "class Guitarra(Instrumento):\n",
    "    \n",
    "    def tocar(self):\n",
    "        print(\"Tinggg *sonido de guitarra*\")\n",
    "\n",
    "class Bateria(Instrumento):\n",
    "    \n",
    "    def tocar(self):\n",
    "        print(\"BOM BOM!\")\n",
    "        \n",
    "class Bajo(Instrumento):\n",
    "    pass #TODO"
   ]
  },
  {
   "cell_type": "code",
   "execution_count": 72,
   "metadata": {
    "slideshow": {
     "slide_type": "subslide"
    }
   },
   "outputs": [
    {
     "name": "stdout",
     "output_type": "stream",
     "text": [
      "Tinggg *sonido de guitarra*\n",
      "BOM BOM!\n"
     ]
    }
   ],
   "source": [
    "guitarra = Guitarra()\n",
    "bateria = Bateria()\n",
    "\n",
    "guitarra.tocar()\n",
    "bateria.tocar()"
   ]
  },
  {
   "cell_type": "code",
   "execution_count": 73,
   "metadata": {
    "slideshow": {
     "slide_type": "fragment"
    }
   },
   "outputs": [
    {
     "ename": "TypeError",
     "evalue": "Can't instantiate abstract class Bajo with abstract methods tocar",
     "output_type": "error",
     "traceback": [
      "\u001b[0;31m---------------------------------------------------------------------------\u001b[0m",
      "\u001b[0;31mTypeError\u001b[0m                                 Traceback (most recent call last)",
      "\u001b[0;32m<ipython-input-73-e4f34c5488d2>\u001b[0m in \u001b[0;36m<module>\u001b[0;34m()\u001b[0m\n\u001b[0;32m----> 1\u001b[0;31m \u001b[0mbajo\u001b[0m \u001b[0;34m=\u001b[0m \u001b[0mBajo\u001b[0m\u001b[0;34m(\u001b[0m\u001b[0;34m)\u001b[0m\u001b[0;34m\u001b[0m\u001b[0m\n\u001b[0m",
      "\u001b[0;31mTypeError\u001b[0m: Can't instantiate abstract class Bajo with abstract methods tocar"
     ]
    }
   ],
   "source": [
    "bajo = Bajo()"
   ]
  },
  {
   "cell_type": "markdown",
   "metadata": {
    "slideshow": {
     "slide_type": "subslide"
    }
   },
   "source": [
    "### Ejercicio 5.3\n",
    "\n",
    "Implementar las clases concretas Circulo, Cuadrado y Rectangulo con constructores:\n",
    "*  Circulo(radio, color)\n",
    "* Cuadrado(lado, color)\n",
    "* Rectangulo(base, altura, color)\n",
    "\n",
    "Que deben heredar de la clase abstracta `Figura` con los métodos abstractos `obtener_perimetro` y `obtener_area`, y el getter de la property concreta color."
   ]
  },
  {
   "cell_type": "markdown",
   "metadata": {
    "slideshow": {
     "slide_type": "subslide"
    }
   },
   "source": [
    "### Solución 5.3"
   ]
  },
  {
   "cell_type": "code",
   "execution_count": 74,
   "metadata": {
    "collapsed": true,
    "slideshow": {
     "slide_type": "subslide"
    }
   },
   "outputs": [],
   "source": [
    "from abc import ABCMeta, abstractmethod\n",
    "from math import pi\n",
    "\n",
    "class Figura:\n",
    "    __metaclass__ = ABCMeta\n",
    "\n",
    "    @abstractmethod\n",
    "    def __init__(self):\n",
    "        pass\n",
    "\n",
    "    @abstractmethod\n",
    "    def obtener_perimetro(self):\n",
    "        pass\n",
    "\n",
    "    @abstractmethod\n",
    "    def obtener_area(self):\n",
    "        pass\n",
    "\n",
    "    @property\n",
    "    def color(self):\n",
    "        return self._color\n"
   ]
  },
  {
   "cell_type": "code",
   "execution_count": 75,
   "metadata": {
    "collapsed": true,
    "slideshow": {
     "slide_type": "subslide"
    }
   },
   "outputs": [],
   "source": [
    "class Circulo(Figura):\n",
    "\n",
    "    def __init__(self, radio, color):\n",
    "        self.radio = radio\n",
    "        self._color = color\n",
    "\n",
    "    def obtener_perimetro(self):\n",
    "        return pi * 2 * self.radio\n",
    "        \n",
    "    def obtener_area(self):\n",
    "        return pi * self.radio ** 2\n"
   ]
  },
  {
   "cell_type": "code",
   "execution_count": 76,
   "metadata": {
    "collapsed": true,
    "slideshow": {
     "slide_type": "subslide"
    }
   },
   "outputs": [],
   "source": [
    "class Cuadrado(Figura):\n",
    "\n",
    "    def __init__(self, lado, color):\n",
    "        self.lado = lado\n",
    "        self._color = color\n",
    "\n",
    "    def obtener_perimetro(self):\n",
    "        return self.lado * 4\n",
    "\n",
    "    def obtener_area(self):\n",
    "        return self.lado ** 2"
   ]
  },
  {
   "cell_type": "code",
   "execution_count": 77,
   "metadata": {
    "collapsed": true,
    "slideshow": {
     "slide_type": "subslide"
    }
   },
   "outputs": [],
   "source": [
    "class Rectangulo(Figura):\n",
    "\n",
    "    def __init__(self, base, altura, color):\n",
    "        self.base = base\n",
    "        self.altura = altura\n",
    "        self._color = color\n",
    "\n",
    "    def obtener_perimetro(self):\n",
    "        return self.base * 2 + self.altura * 2\n",
    "\n",
    "    def obtener_area(self):\n",
    "        return self.base * self.altura"
   ]
  },
  {
   "cell_type": "code",
   "execution_count": 78,
   "metadata": {
    "slideshow": {
     "slide_type": "subslide"
    }
   },
   "outputs": [
    {
     "name": "stdout",
     "output_type": "stream",
     "text": [
      "31.4159265359\n",
      "78.5398163397\n",
      "40\n",
      "100\n",
      "30\n",
      "50\n"
     ]
    }
   ],
   "source": [
    "lista_de_figuras = []\n",
    "lista_de_figuras.append(Circulo(5,\"Rojo\"))\n",
    "lista_de_figuras.append(Cuadrado(10,\"Azul\"))\n",
    "lista_de_figuras.append(Rectangulo(5,10,\"Amarillo\"))\n",
    "\n",
    "for figura in lista_de_figuras:\n",
    "    print figura.obtener_perimetro()\n",
    "    print figura.obtener_area()\n"
   ]
  },
  {
   "cell_type": "markdown",
   "metadata": {
    "slideshow": {
     "slide_type": "slide"
    }
   },
   "source": [
    "## Enumerators\n",
    "\n",
    "* Tipos enumerados (\"enums\"): conjunto de valores constantes, inmutables con algún contenido semántico.\n",
    "* Disponible desde Python 3.4 (*backport* a versiones más viejas)\n",
    "* Importar `Enum` de la biblioteca `enum`."
   ]
  },
  {
   "cell_type": "markdown",
   "metadata": {
    "slideshow": {
     "slide_type": "subslide"
    }
   },
   "source": [
    "### Sintaxis"
   ]
  },
  {
   "cell_type": "code",
   "execution_count": 91,
   "metadata": {
    "collapsed": true,
    "slideshow": {
     "slide_type": "-"
    }
   },
   "outputs": [],
   "source": [
    "from enum import Enum\n",
    "\n",
    "class Dia(Enum):\n",
    "    LUNES = 1\n",
    "    MARTES = 2\n",
    "    MIERCOLES = 3\n",
    "    JUEVES = 4\n",
    "    VIERNES = 5\n",
    "    SABADO = 6\n",
    "    DOMINGO = 7"
   ]
  },
  {
   "cell_type": "markdown",
   "metadata": {
    "slideshow": {
     "slide_type": "subslide"
    }
   },
   "source": [
    "### Uso"
   ]
  },
  {
   "cell_type": "code",
   "execution_count": 92,
   "metadata": {
    "slideshow": {
     "slide_type": "fragment"
    }
   },
   "outputs": [
    {
     "data": {
      "text/plain": [
       "<Dia.LUNES: 1>"
      ]
     },
     "execution_count": 92,
     "metadata": {},
     "output_type": "execute_result"
    }
   ],
   "source": [
    "Dia.LUNES"
   ]
  },
  {
   "cell_type": "code",
   "execution_count": 93,
   "metadata": {
    "slideshow": {
     "slide_type": "fragment"
    }
   },
   "outputs": [
    {
     "data": {
      "text/plain": [
       "<enum 'Dia'>"
      ]
     },
     "execution_count": 93,
     "metadata": {},
     "output_type": "execute_result"
    }
   ],
   "source": [
    "type(Dia.LUNES)"
   ]
  },
  {
   "cell_type": "code",
   "execution_count": 94,
   "metadata": {
    "slideshow": {
     "slide_type": "fragment"
    }
   },
   "outputs": [
    {
     "data": {
      "text/plain": [
       "False"
      ]
     },
     "execution_count": 94,
     "metadata": {},
     "output_type": "execute_result"
    }
   ],
   "source": [
    "Dia.LUNES == Dia.MARTES"
   ]
  },
  {
   "cell_type": "code",
   "execution_count": 95,
   "metadata": {
    "slideshow": {
     "slide_type": "fragment"
    }
   },
   "outputs": [
    {
     "data": {
      "text/plain": [
       "False"
      ]
     },
     "execution_count": 95,
     "metadata": {},
     "output_type": "execute_result"
    }
   ],
   "source": [
    "Dia.LUNES == 1 #Porque da False? Usar IntEnum"
   ]
  },
  {
   "cell_type": "code",
   "execution_count": 99,
   "metadata": {
    "slideshow": {
     "slide_type": "fragment"
    }
   },
   "outputs": [
    {
     "name": "stdout",
     "output_type": "stream",
     "text": [
      "('LUNES', 1)\n",
      "('MARTES', 2)\n",
      "('MIERCOLES', 3)\n",
      "('JUEVES', 4)\n",
      "('VIERNES', 5)\n",
      "('SABADO', 6)\n",
      "('DOMINGO', 7)\n"
     ]
    }
   ],
   "source": [
    "for dia in Dia:\n",
    "    print(dia.name, dia.value)"
   ]
  },
  {
   "cell_type": "markdown",
   "metadata": {
    "slideshow": {
     "slide_type": "subslide"
    }
   },
   "source": [
    "### Pueden almacenar sinónimos"
   ]
  },
  {
   "cell_type": "code",
   "execution_count": 101,
   "metadata": {},
   "outputs": [
    {
     "name": "stdout",
     "output_type": "stream",
     "text": [
      "True\n",
      "False\n"
     ]
    }
   ],
   "source": [
    "class Sexo(Enum): \n",
    "    FEMENINO = 1\n",
    "    MASCULINO = 2 \n",
    "    F=1\n",
    "    M=2\n",
    "    MUJER = 1 \n",
    "    HOMBRE = 2\n",
    "    NORESPONDE = 3\n",
    "    \n",
    "print Sexo.MASCULINO == Sexo.M == Sexo.HOMBRE\n",
    "print Sexo.M == Sexo.F"
   ]
  },
  {
   "cell_type": "markdown",
   "metadata": {
    "slideshow": {
     "slide_type": "subslide"
    }
   },
   "source": [
    "### Con valores diferentes"
   ]
  },
  {
   "cell_type": "code",
   "execution_count": 105,
   "metadata": {
    "collapsed": true
   },
   "outputs": [],
   "source": [
    "from enum import unique\n",
    "\n",
    "@unique\n",
    "class Continente(Enum):\n",
    "    ASIA = 1\n",
    "    EUROPA = 2 \n",
    "    AMERICA = 3 \n",
    "    #OCEANIA = 3 \n",
    "    OCEANIA = 4\n",
    "    AFRICA = 5 \n",
    "    ANTARTIDA = 6"
   ]
  },
  {
   "cell_type": "markdown",
   "metadata": {
    "slideshow": {
     "slide_type": "subslide"
    }
   },
   "source": [
    "### Con comportamiento"
   ]
  },
  {
   "cell_type": "code",
   "execution_count": 115,
   "metadata": {
    "slideshow": {
     "slide_type": "fragment"
    }
   },
   "outputs": [
    {
     "data": {
      "text/plain": [
       "9.802652743337129"
      ]
     },
     "execution_count": 115,
     "metadata": {},
     "output_type": "execute_result"
    }
   ],
   "source": [
    "class Planeta(Enum):\n",
    "    MERCURIO = (3.303e+23, 2.4397e6) \n",
    "    VENUS = (4.869e+24, 6.0518e6) \n",
    "    TIERRA = (5.976e+24, 6.37814e6) \n",
    "    MARTE = (6.421e+23, 3.3972e6) \n",
    "    JUPITER = (1.9e+27, 7.1492e7)\n",
    "    SATURNO = (5.688e+26, 6.0268e7) \n",
    "    URANO = (8.686e+25, 2.5559e7) \n",
    "    NEPTUNO = (1.024e+26, 2.4746e7) \n",
    "    # (Plutón no)\n",
    "    \n",
    "    def __init__(self, masa, radio):\n",
    "        self.masa = masa\n",
    "        self.radio = radio\n",
    "        \n",
    "    @property\n",
    "    def gravedad_en_superficie(self):\n",
    "        G = 6.673e-11\n",
    "        return (G*self.masa)/self.radio**2\n",
    "    \n",
    "    def __str__(self):\n",
    "        return \"Hola soy \" + self.name\n",
    "    \n",
    "Planeta.TIERRA.gravedad_en_superficie"
   ]
  },
  {
   "cell_type": "code",
   "execution_count": 112,
   "metadata": {
    "slideshow": {
     "slide_type": "subslide"
    }
   },
   "outputs": [
    {
     "name": "stdout",
     "output_type": "stream",
     "text": [
      "<enum 'Planeta'>\n",
      "5.976e+24\n",
      "Hola soy TIERRA\n"
     ]
    }
   ],
   "source": [
    "print type(Planeta.TIERRA)\n",
    "print Planeta.TIERRA.masa\n",
    "print Planeta.TIERRA"
   ]
  },
  {
   "cell_type": "markdown",
   "metadata": {
    "slideshow": {
     "slide_type": "subslide"
    }
   },
   "source": [
    "### Ejercicio 5.4\n",
    "\n",
    "Sabiendo que la gravedad en la superficie de un planeta está dada por la fórmula:\n",
    "\n",
    "<center> `g = G*M/R^2` </center>\n",
    "\n",
    "siendo G la constante de gravitación universal `G = 6,673*10^11`, M la masa del planeta y R su radio.\n",
    "\n",
    "Escribir la property `gravedad_en_superficie` que determine la gravedad en la superficie de cada Planeta para el tipo enumerado."
   ]
  },
  {
   "cell_type": "markdown",
   "metadata": {
    "slideshow": {
     "slide_type": "subslide"
    }
   },
   "source": [
    "### Solución 5.4"
   ]
  },
  {
   "cell_type": "code",
   "execution_count": 120,
   "metadata": {
    "slideshow": {
     "slide_type": "-"
    }
   },
   "outputs": [
    {
     "name": "stdout",
     "output_type": "stream",
     "text": [
      "9.80265274334\n"
     ]
    }
   ],
   "source": [
    "\n",
    "class Planeta(Enum):\n",
    "    MERCURIO = (3.303e+23, 2.4397e6) \n",
    "    VENUS = (4.869e+24, 6.0518e6) \n",
    "    TIERRA = (5.976e+24, 6.37814e6) \n",
    "    MARTE = (6.421e+23, 3.3972e6) \n",
    "    JUPITER = (1.9e+27, 7.1492e7)\n",
    "    SATURNO = (5.688e+26, 6.0268e7) \n",
    "    URANO = (8.686e+25, 2.5559e7) \n",
    "    NEPTUNO = (1.024e+26, 2.4746e7) \n",
    "    # (Plutón no)\n",
    "    \n",
    "    def __init__(self, masa, radio):\n",
    "        self.masa = masa\n",
    "        self.radio = radio\n",
    "        \n",
    "    @property\n",
    "    def gravedad_en_superficie(self):\n",
    "        # G: constante de gravitación universal \n",
    "        G = 6.67300E-11\n",
    "        return G * self.masa / (self.radio ** 2)\n",
    "    \n",
    "print Planeta.TIERRA.gravedad_en_superficie"
   ]
  },
  {
   "cell_type": "markdown",
   "metadata": {
    "slideshow": {
     "slide_type": "subslide"
    }
   },
   "source": [
    "### Ejercicio 5.5\n",
    "\n",
    "Escribir el enumerado Palo para modelar los cuatro palos de las cartas de la baraja española, la clase Carta con atributos palo y numero, y la clase Mazo que al inicializarse instancie las cuarenta cartas y las almacene en una lista."
   ]
  },
  {
   "cell_type": "markdown",
   "metadata": {
    "slideshow": {
     "slide_type": "subslide"
    }
   },
   "source": [
    "### Solución 5.5"
   ]
  },
  {
   "cell_type": "code",
   "execution_count": 121,
   "metadata": {
    "collapsed": true
   },
   "outputs": [],
   "source": [
    "from enum import Enum, unique\n",
    "\n",
    "@unique\n",
    "class Palo(Enum):\n",
    "    BASTO = \"Basto\"\n",
    "    ORO = \"Oro\"\n",
    "    ESPADA = \"Espada\"\n",
    "    COPA = \"Copa\"\n",
    "\n",
    "    def __init__(self, nombre):\n",
    "        self.nombre = nombre\n",
    "\n",
    "    def __str__(self):\n",
    "        return self.nombre\n",
    "\n",
    "    def __repr__(self):\n",
    "        return str(self)"
   ]
  },
  {
   "cell_type": "code",
   "execution_count": 123,
   "metadata": {
    "collapsed": true,
    "slideshow": {
     "slide_type": "subslide"
    }
   },
   "outputs": [],
   "source": [
    "class Carta:\n",
    "    ''' Clase que modela una carta. '''\n",
    "\n",
    "    def __init__(self, palo, numero):\n",
    "        self.palo = palo\n",
    "        self.numero = numero\n",
    "\n",
    "    def __str__(self):\n",
    "        return str(self.numero) + \" de \" + str(self.palo)\n",
    "\n",
    "    def __repr__(self):\n",
    "        return str(self)\n",
    "\n",
    "\n",
    "class Mazo:\n",
    "    ''' Clase que modela un mazo de la baraja española. '''\n",
    "\n",
    "    def __init__(self):\n",
    "        self.cartas = [ Carta(palo, numero) for palo in Palo for numero in range(1,13) ]\n"
   ]
  },
  {
   "cell_type": "markdown",
   "metadata": {
    "slideshow": {
     "slide_type": "slide"
    }
   },
   "source": [
    "## TDD : Test Driven Development"
   ]
  },
  {
   "cell_type": "markdown",
   "metadata": {
    "slideshow": {
     "slide_type": "fragment"
    }
   },
   "source": [
    "TDD es una práctica de la Ingeniería de Software que involucra **TFD** y **Refactoring**"
   ]
  },
  {
   "cell_type": "markdown",
   "metadata": {
    "slideshow": {
     "slide_type": "fragment"
    }
   },
   "source": [
    "   *-\"This approach allows you to escape the trap that many developers fall into.\"*"
   ]
  },
  {
   "cell_type": "markdown",
   "metadata": {
    "slideshow": {
     "slide_type": "notes"
    }
   },
   "source": [
    "**NOTAS**\n",
    "\n",
    "Básicamente TDD, es el proceso de implementar código escribiendo primero las pruebas, verlas fallar y luego escribir el código que hagan que estas pasen. Luego se puede añadir otro Test (para probar otra funcionalidad) y volver a escribir otra porción de código que haga que pase y así sucesivamente.\n",
    "\n",
    "Se puede ver a TDD como un ciclo, donde el código va iterando a medidas que vamos escribiendo los tests que fallan hasta que la implementación de la funcionalidad esté completo y luego agregamos otro test y así sucesivamente.\n",
    "\n",
    "Escribiendo las pruebas primero nos permite pensar primero en el problema y no tanto en la solución. Y nos permite pensar como cosas del estilo ¿Que devuelve esta funcion? ¿Que pasa si tengo una excepcion?...\n",
    "\n",
    "Cual es el problema que soluciona? Lanzarnos a escribir codigo y solucionar el primer problema que se nos venga a la cabeza."
   ]
  },
  {
   "cell_type": "markdown",
   "metadata": {
    "slideshow": {
     "slide_type": "fragment"
    }
   },
   "source": [
    "**Propone**\n",
    "    \n",
    "* Escribir un Test unitario que falle\n",
    "* Escribir el código que haga pasar el Test\n",
    "* Refactorizar\n",
    "* Repetir 🔁 "
   ]
  },
  {
   "cell_type": "markdown",
   "metadata": {
    "slideshow": {
     "slide_type": "subslide"
    }
   },
   "source": [
    "### Ventajas\n",
    "\n",
    "* Los desarrolladores no nos “auto condicionamos”.\n",
    "* Ayuda a entender el problema, ¡es una técnica de diseño!\n",
    "* Finaliza el proceso con un conjunto de pruebas automatizadas.\n",
    "* Las pruebas sirven como documentación."
   ]
  },
  {
   "cell_type": "markdown",
   "metadata": {
    "slideshow": {
     "slide_type": "subslide"
    }
   },
   "source": [
    "### Desventajas\n",
    "\n",
    "* Requiere mucha disciplina.\n",
    "* Se abandona la metodología bajo presión."
   ]
  },
  {
   "cell_type": "markdown",
   "metadata": {
    "slideshow": {
     "slide_type": "fragment"
    }
   },
   "source": [
    "### No Silver Bullet\n",
    "\n",
    "TDD requiere que las pruebas puedan automatizarse esto resulta complejo en los casos de:\n",
    "    \n",
    "   * Interfaces Gráficas\n",
    "   * Objetos distribuidos\n",
    "   * Bases de datos"
   ]
  },
  {
   "cell_type": "markdown",
   "metadata": {
    "slideshow": {
     "slide_type": "subslide"
    }
   },
   "source": [
    "### Ciclo de TDD\n",
    "\n",
    "<img src=\"img/tdd.png\" width=50% height=50% />\n"
   ]
  },
  {
   "cell_type": "markdown",
   "metadata": {
    "slideshow": {
     "slide_type": "subslide"
    }
   },
   "source": [
    "### Calculadora\n",
    "\n",
    "La empresa bancaria **ASIV** nos pide implementar una calculadora en Python ya que no poseen el dinero para poder adquirir una para sus empleados de Finanzas.\n",
    "\n",
    "La calculadora debe soportar las siguientes operaciones (recordando el último valor calculado):\n",
    "\n",
    "* Sumar\n",
    "* Restar\n",
    "* Multiplicar\n",
    "* Dividir (flotante)\n",
    "\n",
    "Debido a que es un Cliente importante debemos tomar el proyecto seriamente ya que si entregamos un producto que falle nos embargan todo. Por lo que el PM nos ~~obliga~~ pide amablemente utilizar **TDD**"
   ]
  },
  {
   "cell_type": "markdown",
   "metadata": {
    "slideshow": {
     "slide_type": "subslide"
    }
   },
   "source": [
    "### Vamos a practicar!"
   ]
  },
  {
   "cell_type": "markdown",
   "metadata": {
    "slideshow": {
     "slide_type": "fragment"
    }
   },
   "source": [
    "### Ejercicio 5.6\n",
    "\n",
    "Implementar la clase `CuentaBancaria` usando TDD, con los métodos `depositar_dinero`, `retirar_dinero`, `transferir_dinero` y `obtener_balance`."
   ]
  },
  {
   "cell_type": "markdown",
   "metadata": {
    "slideshow": {
     "slide_type": "subslide"
    }
   },
   "source": [
    "### Ejercicio 5.7\n",
    "\n",
    "Implementar la clase Pila con los métodos apilar, desapilar, ver_tope y esta_vacia."
   ]
  },
  {
   "cell_type": "markdown",
   "metadata": {
    "slideshow": {
     "slide_type": "subslide"
    }
   },
   "source": [
    "### Ejercicio 5.8\n",
    "\n",
    "Implementar la clase Cola con los métodos encolar, desencolar, ver_tope y esta_vacia."
   ]
  },
  {
   "cell_type": "markdown",
   "metadata": {
    "slideshow": {
     "slide_type": "subslide"
    }
   },
   "source": [
    "### Ejercicio 5.9\n",
    "\n",
    "Implementar la clase ListaEnlazada, con los métodos append, pop, len, str y un iterador."
   ]
  },
  {
   "cell_type": "markdown",
   "metadata": {
    "slideshow": {
     "slide_type": "slide"
    }
   },
   "source": [
    "## Próxima Clase\n",
    "\n",
    "* Escritura de scripts.\n",
    "* Manejo de archivos.\n",
    "* Persistencia de datos: Pickle."
   ]
  }
 ],
 "metadata": {
  "celltoolbar": "Slideshow",
  "kernelspec": {
   "display_name": "Python 2",
   "language": "python",
   "name": "python2"
  },
  "language_info": {
   "codemirror_mode": {
    "name": "ipython",
    "version": 2
   },
   "file_extension": ".py",
   "mimetype": "text/x-python",
   "name": "python",
   "nbconvert_exporter": "python",
   "pygments_lexer": "ipython2",
   "version": "2.7.12"
  }
 },
 "nbformat": 4,
 "nbformat_minor": 2
}
