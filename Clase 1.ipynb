{
 "cells": [
  {
   "cell_type": "markdown",
   "metadata": {
    "slideshow": {
     "slide_type": "slide"
    }
   },
   "source": [
    "# Curso de Python : Clase 1\n",
    "\n",
    "<img src=\"img/cys-logo.jpg\" style=\"width: 30%; height: 30%\">"
   ]
  },
  {
   "cell_type": "markdown",
   "metadata": {
    "slideshow": {
     "slide_type": "slide"
    }
   },
   "source": [
    "## Temas:\n",
    "* Visión de Python\n",
    "* Python como lenguaje de Scripting\n",
    "* Instalación de Python\n",
    "* El shell interactivo\n",
    "* Sintaxis Básica\n",
    "* Strings\n",
    "* Debugging"
   ]
  },
  {
   "cell_type": "markdown",
   "metadata": {
    "slideshow": {
     "slide_type": "slide"
    }
   },
   "source": [
    "## Un poco de Historia\n",
    "\n",
    "![](img/python-logo.png)"
   ]
  },
  {
   "cell_type": "markdown",
   "metadata": {
    "slideshow": {
     "slide_type": "subslide"
    }
   },
   "source": [
    "* Python fue creado a finales de los años 80 por un programador holandés llamado **Guido van Rossum**,\n",
    "quien sigue siendo aún hoy el líder del desarrollo del lenguaje.\n",
    "\n",
    "![](img/python-creador.jpg)"
   ]
  },
  {
   "cell_type": "markdown",
   "metadata": {
    "slideshow": {
     "slide_type": "subslide"
    }
   },
   "source": [
    "* El nombre del lenguaje proviene de los humoristas británicos Monty Python.\n",
    "\n",
    ">*\"I chose Python as a working title for the project, being in a slightly irreverent mood (and a big fan of Monty Python's Flying Circus).\"*\n",
    "\n",
    "![](img/monty-python.jpg)"
   ]
  },
  {
   "cell_type": "markdown",
   "metadata": {
    "slideshow": {
     "slide_type": "slide"
    }
   },
   "source": [
    "# Filosofía : Zen de Python"
   ]
  },
  {
   "cell_type": "code",
   "execution_count": 1,
   "metadata": {
    "slideshow": {
     "slide_type": "fragment"
    }
   },
   "outputs": [
    {
     "name": "stdout",
     "output_type": "stream",
     "text": [
      "The Zen of Python, by Tim Peters\n",
      "\n",
      "Beautiful is better than ugly.\n",
      "Explicit is better than implicit.\n",
      "Simple is better than complex.\n",
      "Complex is better than complicated.\n",
      "Flat is better than nested.\n",
      "Sparse is better than dense.\n",
      "Readability counts.\n",
      "Special cases aren't special enough to break the rules.\n",
      "Although practicality beats purity.\n",
      "Errors should never pass silently.\n",
      "Unless explicitly silenced.\n",
      "In the face of ambiguity, refuse the temptation to guess.\n",
      "There should be one-- and preferably only one --obvious way to do it.\n",
      "Although that way may not be obvious at first unless you're Dutch.\n",
      "Now is better than never.\n",
      "Although never is often better than *right* now.\n",
      "If the implementation is hard to explain, it's a bad idea.\n",
      "If the implementation is easy to explain, it may be a good idea.\n",
      "Namespaces are one honking great idea -- let's do more of those!\n"
     ]
    }
   ],
   "source": [
    "import this"
   ]
  },
  {
   "cell_type": "code",
   "execution_count": 2,
   "metadata": {
    "slideshow": {
     "slide_type": "notes"
    }
   },
   "outputs": [
    {
     "ename": "SyntaxError",
     "evalue": "invalid syntax (<ipython-input-2-437b6a3ad10b>, line 1)",
     "output_type": "error",
     "traceback": [
      "\u001b[0;36m  File \u001b[0;32m\"<ipython-input-2-437b6a3ad10b>\"\u001b[0;36m, line \u001b[0;32m1\u001b[0m\n\u001b[0;31m    Hermoso es mejor que feo.\u001b[0m\n\u001b[0m             ^\u001b[0m\n\u001b[0;31mSyntaxError\u001b[0m\u001b[0;31m:\u001b[0m invalid syntax\n"
     ]
    }
   ],
   "source": [
    "Hermoso es mejor que feo.\n",
    "Explícito es mejor que implícito.\n",
    "Simple es mejor que complejo.\n",
    "Complejo es mejor que complicado.\n",
    "Plano es mejor que anidado.\n",
    "Escaso es mejor que denso.\n",
    "Cuenta la legibilidad.\n",
    "Los casos especiales no son lo suficientemente especial como para romper las reglas.\n",
    "Aunque sentido práctico supera pureza.\n",
    "Los errores nunca debe pasar en silencio.\n",
    "A menos que explícitamente silenciados.\n",
    "Ante la ambigüedad, rechaza la tentación de adivinar.\n",
    "Debería haber una - y preferiblemente sólo una - manera obvia de hacerlo.\n",
    "Aunque esa manera puede no ser obvia al principio a menos que seas holandés.\n",
    "Ahora es mejor que nunca.\n",
    "Aunque nunca es a menudo mejor que la * justo * ahora.\n",
    "Si la implementación es difícil de explicar, es una mala idea.\n",
    "Si la implementación es fácil de explicar, puede ser una buena idea.\n",
    "Namespaces son una gran idea de fanfarria  - Vamos a hacer más de esos!"
   ]
  },
  {
   "cell_type": "markdown",
   "metadata": {
    "slideshow": {
     "slide_type": "slide"
    }
   },
   "source": [
    "## Principales caracteristicas del Lenguaje\n",
    "* Propósito general\n",
    "* Alto nivel\n",
    "* Multiparadigma\n",
    "* Multiplataforma\n",
    "* Tipado dinámico\n",
    "* Fuertemente tipado\n",
    "* Interpretado"
   ]
  },
  {
   "cell_type": "markdown",
   "metadata": {
    "slideshow": {
     "slide_type": "slide"
    }
   },
   "source": [
    "<h3> Python 2.x vs Python 3.x </h3>\n",
    "![](img/python-2-vs-python-3.jpg)"
   ]
  },
  {
   "cell_type": "markdown",
   "metadata": {
    "slideshow": {
     "slide_type": "subslide"
    }
   },
   "source": [
    "* La versión 2.0, lanzada en 2000, fue un paso muy importante para el lenguaje ya que era mucho\n",
    "más madura, incluyendo un recolector de basura. La versión 2.2, lanzada en diciembre de 2001, fue\n",
    "también un hito importante ya que mejoró la orientación a objetos. La última versión de esta línea\n",
    "es la 2.7 que fue lanzada en noviembre de 2010 y aún está vigente.\n",
    "\n",
    "\n",
    "* En diciembre de 2008 se lanzó la rama 3.0, cuya versión actual es la 3.6, de diciembre de 2016. Python 3 fue diseñado para corregir algunos defectos de diseño en el lenguaje, y muchos de los cambios introducidos son incompatibles con las versiones anteriores.\n",
    "\n",
    "\n",
    "* Por esta razón, las ramas 2.x y 3.x coexisten con distintos grados de adopción."
   ]
  },
  {
   "cell_type": "markdown",
   "metadata": {
    "slideshow": {
     "slide_type": "notes"
    }
   },
   "source": [
    "**NOTAS**\n",
    "\n",
    "* Python 3 es introducido para mejorar el manejo de Strings\n",
    "* En la version 3.x se trata a Print como una función y no como una sentencia\n",
    "* En cuanto a la división de enteros si tenemos `3/2` : en Python 2 es 1 (división entera), en cambio, en Python 3 es 1.5 (mas intuitivo para nuevos programadores)\n",
    "* Python 3 usa Unicode por default para guardar las Strings, mientras que en Python 2 se debe especificar\n",
    "* Hoy en dia, Python 2 tiene mas librerias compatibles\n",
    "* Python 3 está ganando mas desarrolladores"
   ]
  },
  {
   "cell_type": "markdown",
   "metadata": {
    "slideshow": {
     "slide_type": "slide"
    }
   },
   "source": [
    "## Implementaciones\n",
    "* CPython\n",
    "* Jython\n",
    "* IronPython\n",
    "* PyPy\n",
    "\n",
    "Fuente: https://wiki.python.org/moin/PythonImplementations"
   ]
  },
  {
   "cell_type": "markdown",
   "metadata": {
    "collapsed": true,
    "slideshow": {
     "slide_type": "slide"
    }
   },
   "source": [
    "## Instalación Python - Path\n",
    "\n",
    "Ingresar y descargar en https://www.python.org/\n",
    "\n",
    "En Windows debemos agregar el Path de Python para poder ejecutarlo en otras carpetas, seteando la variable de entorno\n",
    "\n",
    "`C:\\>set PATH=%PATH%;C:\\Python27\n",
    "C:\\>set PYTHONPATH=%PYTHONPATH%;C:\\Python27`\n",
    "\n",
    "Propiedades del sistema->Configuraciones avanzadas->Variables de entorno:\n",
    "\n",
    "* Crear PYTHONPATH: \"C:\\Python27\"\n",
    "* Agregar en PATH: \"C:\\Python27\"\n",
    "\n",
    "\n",
    "<!-- Fuente: https://stackoverflow.com/questions/3701646/how-to-add-to-the-pythonpath-in-windows-7 -->"
   ]
  },
  {
   "cell_type": "markdown",
   "metadata": {
    "slideshow": {
     "slide_type": "subslide"
    }
   },
   "source": [
    "## Python Shell\n",
    "\n",
    "![](img/python-shell.png)\n",
    "\n",
    "### Correr scripts\n",
    "\n",
    "* Extensión: ```.py```"
   ]
  },
  {
   "cell_type": "markdown",
   "metadata": {
    "slideshow": {
     "slide_type": "subslide"
    }
   },
   "source": [
    "Cuando ejecutamos el comando `python` en la terminal\n",
    "\n",
    "    $ python\n",
    "    Python 2.7.13 (v2.7.13:a06454b1afa1, Dec 17 2016, 12:39:47) \n",
    "    [GCC 4.2.1 (Apple Inc. build 5666) (dot 3)] on darwin\n",
    "    Type \"help\", \"copyright\", \"credits\" or \"license\" for\n",
    "    more information.\n",
    "    >>> \n",
    "        \n",
    "El intérprete nos muersta los símbolos `>>>` llamados `prompt` y nos indica que está listo para que escribamos a continuación una sentencia que será evaluada."
   ]
  },
  {
   "cell_type": "markdown",
   "metadata": {
    "slideshow": {
     "slide_type": "subslide"
    }
   },
   "source": [
    "Python permite utilizar las operaciones `+, -, *, ! y **` (suma, resta, multiplicación, división y\n",
    "potenciación). La sintaxis es la convencional (valores intercalados con operaciones), y se puede\n",
    "usar paréntesis para modificar el orden de asociación natural de las operaciones (potenciación,\n",
    "producto/división, suma/resta).\n",
    "\n",
    "    >>> 2+3\n",
    "    5\n",
    "    >>> 5*7\n",
    "    35\n",
    "    >>> 2+3*7\n",
    "    23\n",
    "    >>> (2+3)*7\n",
    "    35\n",
    "    >>> 10/4\n",
    "    2\n",
    "    >>> 5**2\n",
    "    25\n",
    "    >>>max(1,6,2,3,6)\n",
    "    >>>6\n"
   ]
  },
  {
   "cell_type": "markdown",
   "metadata": {
    "slideshow": {
     "slide_type": "slide"
    }
   },
   "source": [
    "   ## Funciones\n",
    "\n",
    "* Las funciones son fragmentos de código asociado a un nombre\n",
    "* Realizan una serie de tareas y devuelven un valor\n",
    "* Se definen con la palabra clave **`def`**\n",
    "* Luego se encuentra el nombre de la función\n",
    "* Y entre paréntesis los argumentos separados por comas\n",
    "* **La identación es OBLIGATORIA**\n",
    "\n",
    "Ejemplo: \n",
    "\n",
    "\n",
    "```python\n",
    "def hola_mundo():\n",
    "    return \"Hola mundo!\"\n",
    "```"
   ]
  },
  {
   "cell_type": "markdown",
   "metadata": {
    "slideshow": {
     "slide_type": "notes"
    }
   },
   "source": [
    "**NOTAS**\n",
    "\n",
    "* Una función es un fragmento de programa que permite efectuar una operación determinada.\n",
    "\n",
    "\n",
    "* Una función puede recibir 0 o más parámetros o argumentos (expresados entre entre paréntesis, y separados por comas), efectúa una operación y devuelve un resultado.\n",
    "\n",
    "\n",
    "* `def hola_mundo()`: le indica a Python que estamos escribiendo una función cuyo nombre es hola_mundo, y los paréntesis indican que la función no recibe ningún parámetro.\n",
    "\n",
    "\n",
    "* La instrucción return <expresion> indica cuál será el resultado de la función.\n",
    "\n",
    "\n",
    "* La sangría con la que se escribe la línea return es importante: le indica a Python que estamos escribiendo el cuerpo de la función (es decir, las instrucciones que la componen), que podría estar formado por más de una sentencia.\n"
   ]
  },
  {
   "cell_type": "markdown",
   "metadata": {
    "slideshow": {
     "slide_type": "slide"
    }
   },
   "source": [
    "## Keywords\n",
    "Son palarbas reservadas por Python. No podemos usarlas para nombres de variables, funciones ni ningún otro identificador.\n"
   ]
  },
  {
   "cell_type": "code",
   "execution_count": 3,
   "metadata": {
    "slideshow": {
     "slide_type": "fragment"
    }
   },
   "outputs": [
    {
     "name": "stdout",
     "output_type": "stream",
     "text": [
      "['and', 'as', 'assert', 'break', 'class', 'continue', 'def', 'del', 'elif', 'else', 'except', 'exec', 'finally', 'for', 'from', 'global', 'if', 'import', 'in', 'is', 'lambda', 'not', 'or', 'pass', 'print', 'raise', 'return', 'try', 'while', 'with', 'yield']\n"
     ]
    }
   ],
   "source": [
    "import keyword\n",
    "print keyword.kwlist\n"
   ]
  },
  {
   "cell_type": "markdown",
   "metadata": {
    "slideshow": {
     "slide_type": "slide"
    }
   },
   "source": [
    "## Primer Script : Hola mundo!\n",
    "Creamos el archivo miModulo.py y escribimos:"
   ]
  },
  {
   "cell_type": "markdown",
   "metadata": {
    "slideshow": {
     "slide_type": "notes"
    }
   },
   "source": [
    "** NOTAS **\n",
    "\n",
    "* El intérprete interactivo es muy útil para probar cosas, acceder a la ayuda, inspeccionar el lenguaje, etc, pero tiene una gran limitación: ¡cuando cerramos el intérprete perdemos todas las definiciones! Para conservar los programas que vamos escribiendo, debemos escribir el código utilizando algún editor de texto, y guardar el archivo con la extensión .py.\n",
    "\n",
    "\n",
    "* En el modo interactivo, Python imprime el resultado de cada expresión luego de evaluarla\n",
    "\n",
    "\n",
    "* En cambio, cuando Python ejecuta un programa .py no imprime absolutamente nada en la pantalla, a menos que le indiquemos explícitamente que lo haga.\n"
   ]
  },
  {
   "cell_type": "code",
   "execution_count": 5,
   "metadata": {
    "slideshow": {
     "slide_type": "fragment"
    }
   },
   "outputs": [
    {
     "name": "stdout",
     "output_type": "stream",
     "text": [
      "Hola mundo!\n"
     ]
    }
   ],
   "source": [
    "#!/usr/bin/env python\n",
    "\n",
    "def hola_mundo():\n",
    "    print \"Hola mundo!\"\n",
    "    \n",
    "hola_mundo()"
   ]
  },
  {
   "cell_type": "markdown",
   "metadata": {
    "slideshow": {
     "slide_type": "subslide"
    }
   },
   "source": [
    "Se puede correr de dos maneras:\n",
    "* Correr \"Python shell\" y luego desde el intérprete el siguiente código\n",
    "\n",
    "```python\n",
    "import miModulo\n",
    "miModulo.hola_mundo()\n",
    "```\n",
    "* O bien desde la consola\n",
    "\n",
    "```\n",
    "python miModulo.py\n",
    "```"
   ]
  },
  {
   "cell_type": "markdown",
   "metadata": {
    "slideshow": {
     "slide_type": "subslide"
    }
   },
   "source": [
    "### ¿Y si no queremos saludar al Mundo?"
   ]
  },
  {
   "cell_type": "code",
   "execution_count": 6,
   "metadata": {
    "slideshow": {
     "slide_type": "fragment"
    }
   },
   "outputs": [
    {
     "name": "stdout",
     "output_type": "stream",
     "text": [
      "Hola Mati!\n"
     ]
    }
   ],
   "source": [
    "def hola(alguien):\n",
    "    print \"Hola \" + alguien + \"!\"\n",
    "    \n",
    "hola(\"Mati\")"
   ]
  },
  {
   "cell_type": "markdown",
   "metadata": {
    "slideshow": {
     "slide_type": "subslide"
    }
   },
   "source": [
    "### ¿Cómo sabemos que hace una función?\n",
    "Aunque el nombre debe ser claro como para darnos una idea de lo que hace una función, aveces no alcanza. Por lo que es recomendable siempre docuemntar las funciónes. Tanto como para ayudarlo al otro que la lee o a el nosotros del futuro.\n",
    "\n",
    "* La documentación de una función se coloca luego del encabezado de la función, en un párrafo encerrado entre `\"\"\"`"
   ]
  },
  {
   "cell_type": "code",
   "execution_count": 7,
   "metadata": {
    "slideshow": {
     "slide_type": "fragment"
    }
   },
   "outputs": [
    {
     "name": "stdout",
     "output_type": "stream",
     "text": [
      "Hola Miguel y Mati\n"
     ]
    }
   ],
   "source": [
    "def hola(persona1, persona2):\n",
    "     \n",
    "    \"\"\" Imprime por pantalla un saludo, dirigido a las personas que se indican por parámetro.\"\"\"\n",
    "\n",
    "    print(\"Hola \" + persona1 + \" y \" + persona2)\n",
    "    \n",
    "hola(\"Miguel\", \"Mati\")"
   ]
  },
  {
   "cell_type": "markdown",
   "metadata": {
    "slideshow": {
     "slide_type": "subslide"
    }
   },
   "source": [
    "Cuando una función definida está correctamente documentada, es posible acceder a su documentación mediante la función **help** provista por Python"
   ]
  },
  {
   "cell_type": "code",
   "execution_count": 8,
   "metadata": {
    "slideshow": {
     "slide_type": "fragment"
    }
   },
   "outputs": [
    {
     "name": "stdout",
     "output_type": "stream",
     "text": [
      "Help on function hola in module __main__:\n",
      "\n",
      "hola(persona1, persona2)\n",
      "    Imprime por pantalla un saludo, dirigido a las personas que se indican por parámetro.\n",
      "\n"
     ]
    }
   ],
   "source": [
    "help(hola)"
   ]
  },
  {
   "cell_type": "markdown",
   "metadata": {
    "slideshow": {
     "slide_type": "subslide"
    }
   },
   "source": [
    "### Devolviendo resultados\n",
    "Luego de realizar dichas tareas necesitamos que las funciones devuelvan el resultado a quién llamó la función\n",
    "* Las funciones devuelven datos con la sentencia ```return```.\n",
    "* Una función que no devuelve nada, devuelve ```None``` (es el ```Null``` de Python)"
   ]
  },
  {
   "cell_type": "code",
   "execution_count": 9,
   "metadata": {
    "slideshow": {
     "slide_type": "fragment"
    }
   },
   "outputs": [
    {
     "name": "stdout",
     "output_type": "stream",
     "text": [
      "Hola mundo!\n",
      "None\n"
     ]
    }
   ],
   "source": [
    "x = hola_mundo()\n",
    "print x"
   ]
  },
  {
   "cell_type": "markdown",
   "metadata": {
    "slideshow": {
     "slide_type": "slide"
    }
   },
   "source": [
    "## Tipos Básicos\n",
    "Se dividen en:\n",
    "* Números: Pueden ser enteros (ejemplo, 3), flotantes (ejemplo, 3.14) o complejos (ejemplo, 1 + 2i).\n",
    "* Strings (Cadenas de Texto): \"Hola mundo!\"\n",
    "* Valores booleanos: True o False"
   ]
  },
  {
   "cell_type": "markdown",
   "metadata": {
    "slideshow": {
     "slide_type": "subslide"
    }
   },
   "source": [
    "**Podemos comprobar el tipo con la función type() de Python**"
   ]
  },
  {
   "cell_type": "code",
   "execution_count": 10,
   "metadata": {
    "slideshow": {
     "slide_type": "fragment"
    }
   },
   "outputs": [
    {
     "data": {
      "text/plain": [
       "int"
      ]
     },
     "execution_count": 10,
     "metadata": {},
     "output_type": "execute_result"
    }
   ],
   "source": [
    "n_entero = 5 #Esto es un entero (int)\n",
    "type(n_entero)"
   ]
  },
  {
   "cell_type": "code",
   "execution_count": 11,
   "metadata": {
    "slideshow": {
     "slide_type": "fragment"
    }
   },
   "outputs": [
    {
     "data": {
      "text/plain": [
       "float"
      ]
     },
     "execution_count": 11,
     "metadata": {},
     "output_type": "execute_result"
    }
   ],
   "source": [
    "n_flotante = 3.14 #Esto es un numero de coma flotante (float)\n",
    "type(n_flotante)"
   ]
  },
  {
   "cell_type": "code",
   "execution_count": 12,
   "metadata": {
    "slideshow": {
     "slide_type": "fragment"
    }
   },
   "outputs": [
    {
     "data": {
      "text/plain": [
       "complex"
      ]
     },
     "execution_count": 12,
     "metadata": {},
     "output_type": "execute_result"
    }
   ],
   "source": [
    "n_complejo = 1 + 2j #Esto es un numero complejo\n",
    "type(n_complejo)"
   ]
  },
  {
   "cell_type": "code",
   "execution_count": 13,
   "metadata": {
    "slideshow": {
     "slide_type": "fragment"
    }
   },
   "outputs": [
    {
     "data": {
      "text/plain": [
       "str"
      ]
     },
     "execution_count": 13,
     "metadata": {},
     "output_type": "execute_result"
    }
   ],
   "source": [
    "cadena = \"Miguel\" #Esto es una cadena\n",
    "type(cadena)"
   ]
  },
  {
   "cell_type": "markdown",
   "metadata": {
    "slideshow": {
     "slide_type": "slide"
    }
   },
   "source": [
    "## Números\n",
    "\n",
    "* ```int```\n",
    "    * Es un long de C\n",
    "    * El rango depende de la plataforma\n",
    "\n",
    "* ```float```\n",
    "    * Es un double de C\n",
    "    * Sigue el estándar IEEE 754."
   ]
  },
  {
   "cell_type": "markdown",
   "metadata": {
    "slideshow": {
     "slide_type": "subslide"
    }
   },
   "source": [
    "| Operador      | Descripción                | Ejemplo                       |\n",
    "| :-----------: |:-------------------------: | :----------------------------:|\n",
    "| +             | suma                       | ```r = 3 + 2 # r es 5```      |\n",
    "| -             | resta                      | ```r = 4 - 7 # r es -3```     |\n",
    "| -             | negación                   | ```r = -7 # r es -7```        |\n",
    "| *             | producto                   | ```r = 2 * 6 # r es 12```     |\n",
    "| **            | exponenciación             | ```r = 2 ** 6 # r es 64```    |\n",
    "| /             | división (Python 3)        | ```r = 3 / 2 # r es 1.5```    |\n",
    "| /             | división entera (Python 2) | ```r = 3 / 2 # r es 1```    |\n",
    "| //            | división entera            | ```r = 3.5 // 2 # r es 1.0``` |\n",
    "| %             | modulo                     | ```r = 7 % 2 # r es 1```      |"
   ]
  },
  {
   "cell_type": "markdown",
   "metadata": {
    "slideshow": {
     "slide_type": "slide"
    }
   },
   "source": [
    "## Cadenas\n",
    "\n",
    "Por ahora sólo diremos que las cadenas no son más que texto encerrado entre comillas simples (‘cadena’) o dobles (“cadena”).\n",
    "\n",
    "```Python\n",
    "cadena1 = \"cadena\"\n",
    "cadena2 = 'cadena'\n",
    "```"
   ]
  },
  {
   "cell_type": "markdown",
   "metadata": {
    "slideshow": {
     "slide_type": "slide"
    }
   },
   "source": [
    "## Booleanos\n",
    "\n",
    "| Operador | Descripción | Ejemplo |\n",
    "|:---:|:---:|:---:|\n",
    "| and | ¿se cumple a y b? | ```r = True and False # r es False``` |\n",
    "| or | ¿se cumple a o b? | ```r = True or False # r es True``` |\n",
    "| not| No a | ```r = not True # r es False``` |\n"
   ]
  },
  {
   "cell_type": "markdown",
   "metadata": {
    "slideshow": {
     "slide_type": "subslide"
    }
   },
   "source": [
    "| Expresión | Significado |\n",
    "|:---:|:---:|\n",
    "| a == b | a es igual a b |\n",
    "| a != b | a es distinto de b |\n",
    "| a<b | a es menor que b |\n",
    "| a <= b | a es menor o igual que b |\n",
    "| a>b | a es mayor que b |\n",
    "| a >= b | a es mayor o igual que b |"
   ]
  },
  {
   "cell_type": "markdown",
   "metadata": {
    "slideshow": {
     "slide_type": "slide"
    }
   },
   "source": [
    "## Condicionales (if...elif...else)\n",
    "\n",
    "```\n",
    "if <condición_1>:\n",
    "    <hacer algo_1 si se da la condición_1>\n",
    "elif <condición_2>:\n",
    "    <hacer algo_2 si se da la condición_2>\n",
    "...\n",
    "elif <condición_n>:\n",
    "    <hacer algo_n si se da la condición_n>\n",
    "else:\n",
    "    <hacer otra cosa si no dan las anteriores>\n",
    "```\n"
   ]
  },
  {
   "cell_type": "code",
   "execution_count": 14,
   "metadata": {
    "slideshow": {
     "slide_type": "subslide"
    }
   },
   "outputs": [
    {
     "name": "stdout",
     "output_type": "stream",
     "text": [
      "Numero positivo\n",
      "Numero negativo\n",
      "Igual a 0\n"
     ]
    }
   ],
   "source": [
    "def positivo_o_no(x):\n",
    "    if x > 0:\n",
    "        print(\"Numero positivo\")\n",
    "    elif x == 0:\n",
    "        print(\"Igual a 0\")\n",
    "    else:\n",
    "        print(\"Numero negativo\")\n",
    "\n",
    "positivo_o_no(10)\n",
    "positivo_o_no(-10)\n",
    "positivo_o_no(0)"
   ]
  },
  {
   "cell_type": "markdown",
   "metadata": {
    "slideshow": {
     "slide_type": "slide"
    }
   },
   "source": [
    "### Ejercicio 1.1\n",
    "* Dado un año indicar si es bisiesto.\n",
    "* Nota: un año es bisiesto si es un número divisible por 4 y no por 100, o si es divisible por 400."
   ]
  },
  {
   "cell_type": "markdown",
   "metadata": {
    "slideshow": {
     "slide_type": "subslide"
    }
   },
   "source": [
    "### Solución 1.1"
   ]
  },
  {
   "cell_type": "code",
   "execution_count": 15,
   "metadata": {
    "collapsed": true,
    "slideshow": {
     "slide_type": "fragment"
    }
   },
   "outputs": [],
   "source": [
    "def es_bisiesto(anio):\n",
    "        \"\"\" Devuelve True si el año es bisiesto, False en caso contrario. \"\"\"\n",
    "        if (anio % 4 == 0 and anio % 100 != 0) or (anio % 400 == 0):\n",
    "                return True\n",
    "        return False"
   ]
  },
  {
   "cell_type": "code",
   "execution_count": 16,
   "metadata": {
    "collapsed": true,
    "slideshow": {
     "slide_type": "fragment"
    }
   },
   "outputs": [],
   "source": [
    "def es_bisiesto(anio):\n",
    "        \"\"\" Devuelve True si el año es bisiesto, False en caso contrario. \"\"\"\n",
    "        return (anio % 4 == 0 and anio % 100 != 0) or (anio % 400 == 0)"
   ]
  },
  {
   "cell_type": "code",
   "execution_count": 17,
   "metadata": {
    "collapsed": true,
    "slideshow": {
     "slide_type": "fragment"
    }
   },
   "outputs": [],
   "source": [
    "def es_bisiesto(anio):\n",
    "        \"\"\" Devuelve True si el año es bisiesto, False en caso contrario. \"\"\"\n",
    "        return (not anio % 4 and anio % 100) or (not anio % 400)"
   ]
  },
  {
   "cell_type": "markdown",
   "metadata": {
    "slideshow": {
     "slide_type": "slide"
    }
   },
   "source": [
    "## Interacción con el usuario\n",
    "\n",
    "Ya vimos que la función `print` nos permite mostrar información al usuario del programa. En algunos casos también necesitaremos que el usuario ingrese datos al programa.\n",
    "\n",
    "La necesitaremos, por ejemplo, si queremos escribir en Python un programa que pida al usuario que escriba su nombre, y luego lo salude. Para esto usaremos la funcion `raw_input`"
   ]
  },
  {
   "cell_type": "markdown",
   "metadata": {
    "slideshow": {
     "slide_type": "notes"
    }
   },
   "source": [
    "** NOTAS **\n",
    "\n",
    "* La diferencia entre `input()` y `raw_input` es que la primera trata de devolver una expresión mientras que raw_input devuelve siempre una cade"
   ]
  },
  {
   "cell_type": "code",
   "execution_count": 18,
   "metadata": {
    "slideshow": {
     "slide_type": "subslide"
    }
   },
   "outputs": [
    {
     "name": "stdout",
     "output_type": "stream",
     "text": [
      "Por favor ingrese su nombre: Miguel\n",
      "Hola Miguel!\n"
     ]
    }
   ],
   "source": [
    "#hola.py\n",
    "\n",
    "def hola(nombre):\n",
    "    return \"Hola \" + nombre + \"!\"\n",
    "\n",
    "def saludar():\n",
    "    nombre = raw_input(\"Por favor ingrese su nombre: \")\n",
    "    saludo = hola(nombre)\n",
    "    print(saludo)\n",
    "\n",
    "saludar()"
   ]
  },
  {
   "cell_type": "markdown",
   "metadata": {
    "slideshow": {
     "slide_type": "slide"
    }
   },
   "source": [
    "## Ciclo definido\n",
    "\n",
    "```\n",
    "for <variable> in <secuencia de valores>:\n",
    "    <cuerpo>\n",
    "```\n"
   ]
  },
  {
   "cell_type": "markdown",
   "metadata": {
    "slideshow": {
     "slide_type": "subslide"
    }
   },
   "source": [
    "Por ejemplo: Supongamos que queremos calcular la suma de los primeros 5 números cuadrados.\n"
   ]
  },
  {
   "cell_type": "code",
   "execution_count": 19,
   "metadata": {
    "slideshow": {
     "slide_type": "fragment"
    }
   },
   "outputs": [
    {
     "data": {
      "text/plain": [
       "55"
      ]
     },
     "execution_count": 19,
     "metadata": {},
     "output_type": "execute_result"
    }
   ],
   "source": [
    "def imprimir_cuadrados1():\n",
    "    suma = 0\n",
    "    suma = suma + 1*1\n",
    "    suma = suma + 2*2\n",
    "    suma = suma + 3*3\n",
    "    suma = suma + 4*4\n",
    "    suma = suma + 5*5\n",
    "    return suma\n",
    "\n",
    "imprimir_cuadrados1()"
   ]
  },
  {
   "cell_type": "code",
   "execution_count": 22,
   "metadata": {
    "slideshow": {
     "slide_type": "fragment"
    }
   },
   "outputs": [
    {
     "data": {
      "text/plain": [
       "55"
      ]
     },
     "execution_count": 22,
     "metadata": {},
     "output_type": "execute_result"
    }
   ],
   "source": [
    "def imprimir(n):\n",
    "    acum = 0\n",
    "    for x in range(n + 1):\n",
    "        acum += x*x\n",
    "    return acum\n",
    "\n",
    "imprimir(5)"
   ]
  },
  {
   "cell_type": "markdown",
   "metadata": {
    "slideshow": {
     "slide_type": "subslide"
    }
   },
   "source": [
    "### Ejercicio 1.2\n",
    "\n",
    "* Dado un número n, decir si ese número es primo."
   ]
  },
  {
   "cell_type": "markdown",
   "metadata": {
    "slideshow": {
     "slide_type": "subslide"
    }
   },
   "source": [
    "### Solución 1.2"
   ]
  },
  {
   "cell_type": "code",
   "execution_count": 23,
   "metadata": {
    "slideshow": {
     "slide_type": "fragment"
    }
   },
   "outputs": [
    {
     "data": {
      "text/plain": [
       "True"
      ]
     },
     "execution_count": 23,
     "metadata": {},
     "output_type": "execute_result"
    }
   ],
   "source": [
    "def es_primo(n):\n",
    "        \"\"\" Dado un número n, devuelve True si es primo, False si no\"\"\"\n",
    "        for i in range(2,n):\n",
    "                if n % i == 0:\n",
    "                    return False\n",
    "        return True\n",
    "    \n",
    "es_primo(83)"
   ]
  },
  {
   "cell_type": "markdown",
   "metadata": {
    "slideshow": {
     "slide_type": "subslide"
    }
   },
   "source": [
    "### Ejercicio 1.3\n",
    "\n",
    "* Escribir un programa que reciba un número n por parámetro e imprima los primeros n\n",
    "números triangulares, junto con su índice. Los números triangulares se obtienen mediante la suma de los números naturales desde 1 hasta n."
   ]
  },
  {
   "cell_type": "markdown",
   "metadata": {
    "slideshow": {
     "slide_type": "subslide"
    }
   },
   "source": [
    "### Solución 1.3"
   ]
  },
  {
   "cell_type": "code",
   "execution_count": 24,
   "metadata": {
    "slideshow": {
     "slide_type": "fragment"
    }
   },
   "outputs": [
    {
     "name": "stdout",
     "output_type": "stream",
     "text": [
      "(1, ' - ', 1)\n",
      "(2, ' - ', 3)\n",
      "(3, ' - ', 6)\n",
      "(4, ' - ', 10)\n",
      "(5, ' - ', 15)\n"
     ]
    }
   ],
   "source": [
    "def triangulares(n):\n",
    "        for i in range(1, n + 1):\n",
    "                acum = 0\n",
    "                for j in range(1, i + 1): \n",
    "                        acum += j\n",
    "                print(i, \" - \", acum)\n",
    "                \n",
    "triangulares(5)"
   ]
  },
  {
   "cell_type": "markdown",
   "metadata": {
    "slideshow": {
     "slide_type": "slide"
    }
   },
   "source": [
    "## Ciclo indefinido\n",
    "\n",
    "```\n",
    "while <condición>:\n",
    "    <hacer algo>\n",
    "\n",
    "```\n",
    "\n",
    "* Cuenta con:\n",
    "    * ```break```\n",
    "    * ```continue```\n"
   ]
  },
  {
   "cell_type": "code",
   "execution_count": 26,
   "metadata": {
    "slideshow": {
     "slide_type": "subslide"
    }
   },
   "outputs": [
    {
     "name": "stdout",
     "output_type": "stream",
     "text": [
      "Ingrese un texto(hasta 140 caracteres):texto\n"
     ]
    }
   ],
   "source": [
    "#Correrlo en terminal texto_while.py\n",
    "\n",
    "texto = raw_input(\"Ingrese un texto(hasta 140 caracteres):\")\n",
    "while len(texto) > 140 :\n",
    "    texto = raw_input(\"Ingrese un texto(hasta 140 caracteres):\")"
   ]
  },
  {
   "cell_type": "markdown",
   "metadata": {
    "slideshow": {
     "slide_type": "subslide"
    }
   },
   "source": [
    "### Ejercicio 1.4\n",
    "\n",
    "* Escribir un programa que reciba una a una las notas del usuario, preguntando a cada paso si desea ingresar más notas (-1 para salir). Finalmente debe imprimir el promedio correspondiente."
   ]
  },
  {
   "cell_type": "markdown",
   "metadata": {
    "slideshow": {
     "slide_type": "subslide"
    }
   },
   "source": [
    "### Solución 1.4"
   ]
  },
  {
   "cell_type": "code",
   "execution_count": 27,
   "metadata": {
    "slideshow": {
     "slide_type": "fragment"
    }
   },
   "outputs": [
    {
     "name": "stdout",
     "output_type": "stream",
     "text": [
      "Ingrese una nota (-1 para salir):2\n",
      "Ingrese una nota (-1 para salir):3\n",
      "Ingrese una nota (-1 para salir):-1\n"
     ]
    },
    {
     "data": {
      "text/plain": [
       "2.5"
      ]
     },
     "execution_count": 27,
     "metadata": {},
     "output_type": "execute_result"
    }
   ],
   "source": [
    "#ej14.py\n",
    "\n",
    "def promedio():\n",
    "        acumulador = 0\n",
    "        cantidadNotas = 0\n",
    "        nota = int(raw_input(\"Ingrese una nota (-1 para salir):\"))\n",
    "        while nota != -1:\n",
    "                acumulador += nota\n",
    "                cantidadNotas += 1\n",
    "                nota = int(raw_input(\"Ingrese una nota (-1 para salir):\"))\n",
    "        return float(acumulador) / cantidadNotas\n",
    "\n",
    "promedio()"
   ]
  },
  {
   "cell_type": "markdown",
   "metadata": {
    "slideshow": {
     "slide_type": "subslide"
    }
   },
   "source": [
    "### Ejercicio 1.5\n",
    "Utilizando la función `randrange` del módulo `random`, escribir un programa que obtenga un número aleatorio secreto, y luego permita al usuario ingresar números y le indique sin son menores o mayores que el número a adivinar, hasta que el usuario ingrese el número correcto.\n",
    "\n",
    "`randrange(1,10)` Devuelve un numero entre [1,10)"
   ]
  },
  {
   "cell_type": "code",
   "execution_count": 28,
   "metadata": {
    "slideshow": {
     "slide_type": "subslide"
    }
   },
   "outputs": [
    {
     "name": "stdout",
     "output_type": "stream",
     "text": [
      "Help on method randrange in module random:\n",
      "\n",
      "randrange(self, start, stop=None, step=1, _int=<type 'int'>, _maxwidth=9007199254740992L) method of random.Random instance\n",
      "    Choose a random item from range(start, stop[, step]).\n",
      "    \n",
      "    This fixes the problem with randint() which includes the\n",
      "    endpoint; in Python this is usually not what you want.\n",
      "\n"
     ]
    },
    {
     "data": {
      "text/plain": [
       "13"
      ]
     },
     "execution_count": 28,
     "metadata": {},
     "output_type": "execute_result"
    }
   ],
   "source": [
    "import random #Importa el modulo, si queremos ejecutar una funcion -> modulo.funcion()\n",
    "from random import randrange #Importa solo la función randrange del modulo random\n",
    "from random import * #Importa todas las funciones definidas en el modulo random\n",
    "\n",
    "help(randrange)\n",
    "randrange(1,40) "
   ]
  },
  {
   "cell_type": "markdown",
   "metadata": {
    "slideshow": {
     "slide_type": "subslide"
    }
   },
   "source": [
    "### Solución 1.5"
   ]
  },
  {
   "cell_type": "code",
   "execution_count": 29,
   "metadata": {
    "slideshow": {
     "slide_type": "fragment"
    }
   },
   "outputs": [
    {
     "name": "stdout",
     "output_type": "stream",
     "text": [
      "Ingrese un número:2\n",
      "Correcto! El numero es  2\n"
     ]
    }
   ],
   "source": [
    "# ej15.py\n",
    "import random\n",
    "\n",
    "def adivinador():\n",
    "        n = random.randrange(10)\n",
    "        ingresado = int(raw_input(\"Ingrese un número:\"))\n",
    "        while ingresado != n:\n",
    "                if ingresado < n:\n",
    "                        ingresado = int(raw_input(\"El número ingresado es menor. \" +\n",
    "                                               \"Ingrese un número:\"))\n",
    "                else:\n",
    "                        ingresado = int(raw_input(\"El número ingresado es mayor. \" +\n",
    "                                             \"Ingrese un número:\"))    \n",
    "        print \"Correcto! El numero es \", n\n",
    "        \n",
    "adivinador()"
   ]
  },
  {
   "cell_type": "markdown",
   "metadata": {
    "slideshow": {
     "slide_type": "slide"
    }
   },
   "source": [
    "## Parámetros\n",
    "\n"
   ]
  },
  {
   "cell_type": "code",
   "execution_count": null,
   "metadata": {
    "collapsed": true,
    "slideshow": {
     "slide_type": "fragment"
    }
   },
   "outputs": [],
   "source": [
    "#parametros1.py\n",
    "\n",
    "import sys\n",
    "for arg in sys.argv:\n",
    "    print arg"
   ]
  },
  {
   "cell_type": "markdown",
   "metadata": {
    "slideshow": {
     "slide_type": "subslide"
    }
   },
   "source": [
    "### Ejercicio 1.6\n",
    "\n",
    "* Ejercicio de años bisiesto con parámetros"
   ]
  },
  {
   "cell_type": "markdown",
   "metadata": {
    "slideshow": {
     "slide_type": "subslide"
    }
   },
   "source": [
    "### Solución 1.6"
   ]
  },
  {
   "cell_type": "code",
   "execution_count": null,
   "metadata": {
    "collapsed": true,
    "slideshow": {
     "slide_type": "fragment"
    }
   },
   "outputs": [],
   "source": [
    "#ej1.6.py\n",
    "import sys\n",
    "\n",
    "def es_bisiesto(anio):\n",
    "    \"\"\" Devuelve True si el anio es bisiesto, False en caso contrario. \"\"\"\n",
    "    return (anio % 4 == 0 and anio % 100 != 0) or (anio % 400 == 0)\n",
    "    \n",
    "print(es_bisiesto(int(sys.argv[1])))"
   ]
  },
  {
   "cell_type": "markdown",
   "metadata": {
    "slideshow": {
     "slide_type": "slide"
    }
   },
   "source": [
    "#### Ejercicios extra\n",
    "\n",
    "* Escribir una función que reciba dos números como parámetros, y devuelva cuántos múltiplos del primero hay, que sean menores que el segundo. Implementarla utilizando un ciclo for, y uno while\n",
    "\n",
    "\n",
    "* Escribir una función que reciba un número natural e imprima todos los números primos que hay hasta ese número.\n",
    "\n",
    "\n",
    "* Escribir una función que devuelva la suma de todos los divisores de un número n, sin incluirlo.\n",
    "\n",
    "\n",
    "* Usando la función anterior, escribir una función que imprima los primeros m números tales que la suma de sus divisores sea igual a sí mismo (es decir los primeros m números perfectos).\n"
   ]
  },
  {
   "cell_type": "markdown",
   "metadata": {
    "slideshow": {
     "slide_type": "slide"
    }
   },
   "source": [
    "## Cadenas\n",
    "\n",
    "Son texto encerrado entre comillas dobles (“ “) o simples (‘ ‘)\n",
    "* Los caracteres especiales se “escapean” con \\\n",
    "* Anteponiendo u -> Unicode: unicode = u”äóè”\n",
    "* r -> raw (No escapea): raw = r”\\n”\n",
    "* Comillas triples: `\"\"\" \"\"\"`"
   ]
  },
  {
   "cell_type": "code",
   "execution_count": 32,
   "metadata": {
    "slideshow": {
     "slide_type": "-"
    }
   },
   "outputs": [
    {
     "name": "stdout",
     "output_type": "stream",
     "text": [
      "primera línea\n",
      "              esto se vera en otra línea\n"
     ]
    }
   ],
   "source": [
    "triple = \"\"\"primera línea\n",
    "              esto se vera en otra línea\"\"\"\n",
    "\n",
    "print triple"
   ]
  },
  {
   "cell_type": "markdown",
   "metadata": {
    "slideshow": {
     "slide_type": "subslide"
    }
   },
   "source": [
    "### Operaciones con cadenas\n"
   ]
  },
  {
   "cell_type": "code",
   "execution_count": 33,
   "metadata": {},
   "outputs": [
    {
     "data": {
      "text/plain": [
       "'Un divertido programa de radio'"
      ]
     },
     "execution_count": 33,
     "metadata": {},
     "output_type": "execute_result"
    }
   ],
   "source": [
    "\"Un divertido \" + \"programa \" + \"de \" + \"radio\""
   ]
  },
  {
   "cell_type": "code",
   "execution_count": 34,
   "metadata": {},
   "outputs": [
    {
     "data": {
      "text/plain": [
       "'programas programas programas '"
      ]
     },
     "execution_count": 34,
     "metadata": {},
     "output_type": "execute_result"
    }
   ],
   "source": [
    "3 * \"programas \""
   ]
  },
  {
   "cell_type": "code",
   "execution_count": 35,
   "metadata": {},
   "outputs": [
    {
     "data": {
      "text/plain": [
       "10"
      ]
     },
     "execution_count": 35,
     "metadata": {},
     "output_type": "execute_result"
    }
   ],
   "source": [
    "len(\"programas \")"
   ]
  },
  {
   "cell_type": "code",
   "execution_count": 36,
   "metadata": {
    "scrolled": true
   },
   "outputs": [
    {
     "name": "stdout",
     "output_type": "stream",
     "text": [
      "c\n",
      "u\n",
      "r\n",
      "s\n",
      "o\n",
      " \n",
      "p\n",
      "y\n",
      "t\n",
      "h\n",
      "o\n",
      "n\n"
     ]
    }
   ],
   "source": [
    "palabra = \"curso python\"\n",
    "for letra in palabra:\n",
    "    print letra"
   ]
  },
  {
   "cell_type": "code",
   "execution_count": 37,
   "metadata": {},
   "outputs": [
    {
     "name": "stdout",
     "output_type": "stream",
     "text": [
      "Verónica\n",
      "e\n",
      "c\n"
     ]
    }
   ],
   "source": [
    "a = \"Verónica\"\n",
    "print a\n",
    "print a[1]\n",
    "print a[-2]"
   ]
  },
  {
   "cell_type": "markdown",
   "metadata": {
    "slideshow": {
     "slide_type": "subslide"
    }
   },
   "source": [
    "**Las cadenas son inmutables!**"
   ]
  },
  {
   "cell_type": "code",
   "execution_count": 38,
   "metadata": {},
   "outputs": [
    {
     "ename": "TypeError",
     "evalue": "'str' object does not support item assignment",
     "output_type": "error",
     "traceback": [
      "\u001b[0;31m---------------------------------------------------------------------------\u001b[0m",
      "\u001b[0;31mTypeError\u001b[0m                                 Traceback (most recent call last)",
      "\u001b[0;32m<ipython-input-38-a1f251c3625e>\u001b[0m in \u001b[0;36m<module>\u001b[0;34m()\u001b[0m\n\u001b[0;32m----> 1\u001b[0;31m \u001b[0ma\u001b[0m\u001b[0;34m[\u001b[0m\u001b[0;36m1\u001b[0m\u001b[0;34m]\u001b[0m \u001b[0;34m=\u001b[0m \u001b[0;34m'o'\u001b[0m\u001b[0;34m\u001b[0m\u001b[0m\n\u001b[0m",
      "\u001b[0;31mTypeError\u001b[0m: 'str' object does not support item assignment"
     ]
    }
   ],
   "source": [
    "a[1] = 'o'"
   ]
  },
  {
   "cell_type": "markdown",
   "metadata": {
    "slideshow": {
     "slide_type": "subslide"
    }
   },
   "source": [
    "### Ejercicio 1.7\n",
    "* Escribir un ciclo que permita mostrar los caracteres de una cadena del final al principio."
   ]
  },
  {
   "cell_type": "markdown",
   "metadata": {
    "slideshow": {
     "slide_type": "subslide"
    }
   },
   "source": [
    "### Solución 1.7"
   ]
  },
  {
   "cell_type": "code",
   "execution_count": 40,
   "metadata": {
    "slideshow": {
     "slide_type": "fragment"
    }
   },
   "outputs": [
    {
     "name": "stdout",
     "output_type": "stream",
     "text": [
      "a\n",
      "l\n",
      "o\n",
      "h\n"
     ]
    }
   ],
   "source": [
    "def alverre(cadena):\n",
    "    for i in range(len(cadena) - 1, -1, -1):\n",
    "        print(cadena[i])\n",
    "        \n",
    "alverre(\"hola\")"
   ]
  },
  {
   "cell_type": "code",
   "execution_count": 41,
   "metadata": {
    "slideshow": {
     "slide_type": "fragment"
    }
   },
   "outputs": [
    {
     "name": "stdout",
     "output_type": "stream",
     "text": [
      "u\n",
      "a\n",
      "h\n",
      "c\n"
     ]
    }
   ],
   "source": [
    "def alverre2(cadena):\n",
    "    for i in range(1, len(cadena) + 1):\n",
    "        print(cadena[-i])\n",
    "        \n",
    "alverre2(\"chau\")"
   ]
  },
  {
   "cell_type": "markdown",
   "metadata": {
    "slideshow": {
     "slide_type": "slide"
    }
   },
   "source": [
    "## Segmentos (slices)\n"
   ]
  },
  {
   "cell_type": "code",
   "execution_count": 44,
   "metadata": {},
   "outputs": [
    {
     "name": "stdout",
     "output_type": "stream",
     "text": [
      "Ve\n",
      "ni\n",
      "Veronica\n",
      "Ver\n",
      "onica\n",
      "Vrnc\n",
      "acinoreV\n"
     ]
    }
   ],
   "source": [
    "a = \"Veronica\"\n",
    "print a[0:2]\n",
    "print a[-4:-2]\n",
    "print a[0:80]\n",
    "print a[:3]\n",
    "print a[3:]\n",
    "print a[::2]\n",
    "\n",
    "a = a[::-1]\n",
    "print a"
   ]
  },
  {
   "cell_type": "markdown",
   "metadata": {
    "slideshow": {
     "slide_type": "subslide"
    }
   },
   "source": [
    "### Ejercicio 1.8\n",
    "Escribir funciones que dada una cadena y un caracter, inserte el caracter entre cada letra de la cadena. Ej: ’separar’ y ’,’ debería devolver ’s,e,p,a,r,a,r’"
   ]
  },
  {
   "cell_type": "markdown",
   "metadata": {
    "slideshow": {
     "slide_type": "subslide"
    }
   },
   "source": [
    "### Solución 1.8"
   ]
  },
  {
   "cell_type": "code",
   "execution_count": 48,
   "metadata": {
    "slideshow": {
     "slide_type": "fragment"
    }
   },
   "outputs": [
    {
     "data": {
      "text/plain": [
       "'h,o,l,a'"
      ]
     },
     "execution_count": 48,
     "metadata": {},
     "output_type": "execute_result"
    }
   ],
   "source": [
    "def separar(cadena, separador):\n",
    "        resultado = \"\"\n",
    "        for letra in cadena:\n",
    "                resultado += letra + separador\n",
    "        return resultado[:-1]\n",
    "    \n",
    "separar(\"hola\",\",\")"
   ]
  },
  {
   "cell_type": "code",
   "execution_count": 49,
   "metadata": {
    "slideshow": {
     "slide_type": "fragment"
    }
   },
   "outputs": [
    {
     "data": {
      "text/plain": [
       "'c,o,m,o'"
      ]
     },
     "execution_count": 49,
     "metadata": {},
     "output_type": "execute_result"
    }
   ],
   "source": [
    "def separar(cadena, separador):\n",
    "        resultado = cadena[0]\n",
    "        for i in range(1,len(cadena)):\n",
    "                resultado += separador + cadena[i]\n",
    "        return resultado\n",
    "separar(\"como\",\",\")"
   ]
  },
  {
   "cell_type": "code",
   "execution_count": 50,
   "metadata": {
    "slideshow": {
     "slide_type": "fragment"
    }
   },
   "outputs": [
    {
     "data": {
      "text/plain": [
       "'a,n,d,a,s'"
      ]
     },
     "execution_count": 50,
     "metadata": {},
     "output_type": "execute_result"
    }
   ],
   "source": [
    "def separar(cadena, separador):\n",
    "    return separador.join(cadena)\n",
    "\n",
    "separar(\"andas\",\",\")"
   ]
  },
  {
   "cell_type": "markdown",
   "metadata": {
    "slideshow": {
     "slide_type": "subslide"
    }
   },
   "source": [
    "### Ejercicio 1.9\n",
    "* Escribir una función que dado una cadena, indique si se trata de un palíndromo\n",
    "Ej: “neuquen”"
   ]
  },
  {
   "cell_type": "markdown",
   "metadata": {
    "slideshow": {
     "slide_type": "subslide"
    }
   },
   "source": [
    "### Solución 1.9\n"
   ]
  },
  {
   "cell_type": "code",
   "execution_count": 51,
   "metadata": {
    "collapsed": true,
    "slideshow": {
     "slide_type": "fragment"
    }
   },
   "outputs": [],
   "source": [
    "def es_palindromo(cadena):\n",
    "        for i in range(len(cadena) / 2 + 1):\n",
    "                if cadena[i] != cadena[-(i + 1)]:\n",
    "                    return False\n",
    "        return True"
   ]
  },
  {
   "cell_type": "code",
   "execution_count": 52,
   "metadata": {
    "collapsed": true,
    "slideshow": {
     "slide_type": "fragment"
    }
   },
   "outputs": [],
   "source": [
    "def es_palindromo(cadena):\n",
    "        return cadena == cadena[::-1]"
   ]
  },
  {
   "cell_type": "markdown",
   "metadata": {
    "slideshow": {
     "slide_type": "slide"
    }
   },
   "source": [
    "## Debugging\n",
    "\n",
    "* pdb módulo para debugging\n",
    "* Ejecutar un script: ```py -m pdb script.py```\n",
    "* No hacen falta “breakpoints”\n",
    "* Insertar un breakpoint en modo interactivo: \n",
    "    * ```break numero_de_linea```\n",
    "    * ```break nombre_funcion```\n",
    "* Insertar un breakpoint por código: pdb.set_trace()\n"
   ]
  },
  {
   "cell_type": "markdown",
   "metadata": {
    "slideshow": {
     "slide_type": "subslide"
    }
   },
   "source": [
    "* where (w): imprime el stack trace actual\n",
    "* list (l): muestra el código fuente en ejecución\n",
    "* step (s): (step into) ejecuta la línea siguiente, entrando en la función\n",
    "* next (n): (step over) ejecuta la línea siguiente hasta que se devuelve el control a la función actual\n",
    "* continue (c): continúa la ejecución hasta el siguiente breakpoint\n",
    "* print (p expresión): imprime la expresión\n",
    "* whatis expresión: Imprime el tipo de la expresión\n",
    "* quit (q): para salir"
   ]
  },
  {
   "cell_type": "markdown",
   "metadata": {
    "slideshow": {
     "slide_type": "subslide"
    }
   },
   "source": [
    "### Ejemplo: debugging de promedio\n",
    "\n",
    "Chequear:\n",
    "* Si ingreso -1 de una, explota\n",
    "* Si le doy s en el input, me pasea por funciones del sistema. Salir con return\n",
    "* Insertar un breakpoint con set_trace\n",
    "* Insertar un breakpoint con break promedio\n"
   ]
  },
  {
   "cell_type": "markdown",
   "metadata": {
    "slideshow": {
     "slide_type": "slide"
    }
   },
   "source": [
    "## Próxima clase\n",
    "\n",
    "* Tipos de datos nativos: \n",
    "    * Listas y tuplas\n",
    "    * Diccionarios\n",
    "* Iteraciones\n",
    "* Mutabilidad e inmutabilidad\n"
   ]
  },
  {
   "cell_type": "markdown",
   "metadata": {
    "slideshow": {
     "slide_type": "slide"
    }
   },
   "source": [
    "## Referencias\n",
    "\n",
    "* Documentación Python 2.7\n",
    "        https://docs.python.org/2/\n",
    " \n",
    "* Zen de python\n",
    "        http://legacy.python.org/dev/peps/pep-0020/\n",
    "        \n",
    "* Wikipedia\n",
    "        https://en.wikipedia.org/wiki/Python\n",
    "        \n",
    "* Apuntes Teóricos - Algoritmos y Programación I - Cátedra Wachenchauzer - FIUBA\n",
    "\n",
    "        http://algoritmos7540-rw.tk/"
   ]
  }
 ],
 "metadata": {
  "celltoolbar": "Slideshow",
  "kernelspec": {
   "display_name": "Python 2",
   "language": "python",
   "name": "python2"
  },
  "language_info": {
   "codemirror_mode": {
    "name": "ipython",
    "version": 2
   },
   "file_extension": ".py",
   "mimetype": "text/x-python",
   "name": "python",
   "nbconvert_exporter": "python",
   "pygments_lexer": "ipython2",
   "version": "2.7.12"
  }
 },
 "nbformat": 4,
 "nbformat_minor": 2
}
