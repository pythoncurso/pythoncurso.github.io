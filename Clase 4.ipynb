{
 "cells": [
  {
   "cell_type": "markdown",
   "metadata": {
    "slideshow": {
     "slide_type": "slide"
    }
   },
   "source": [
    "## Clase 4"
   ]
  },
  {
   "cell_type": "markdown",
   "metadata": {
    "slideshow": {
     "slide_type": "slide"
    }
   },
   "source": [
    "## Temas\n",
    "\n",
    "* Orientación a objetos\n",
    "* Repaso del paradigma\n",
    "* Implementación en Python\n",
    "* Excepciones\n",
    "* Aserciones"
   ]
  },
  {
   "cell_type": "markdown",
   "metadata": {
    "slideshow": {
     "slide_type": "slide"
    }
   },
   "source": [
    "## Terminología de la POO\n",
    "* Clase\n",
    "* Objeto\n",
    "* Instancia\n",
    "* Atributo\n",
    "* Método\n",
    "* Mensaje"
   ]
  },
  {
   "cell_type": "markdown",
   "metadata": {
    "slideshow": {
     "slide_type": "slide"
    }
   },
   "source": [
    "## ¿Porque usar clases?\n",
    "\n",
    "* Nos permiten reflejar objetos reales del dominio de nuestro problema.\n",
    "\n",
    "\n",
    "* Podemos modelar estructuras y relaciones entre objetos como en el mundo real.\n",
    "\n",
    "\n",
    "* Tenemos herramientas poderosas como la Herencia para tener una jerarquia de Clases.\n",
    "\n",
    "\n",
    "* Tambien podemos componer muchos objetos creando nuevos, por composición."
   ]
  },
  {
   "cell_type": "markdown",
   "metadata": {
    "slideshow": {
     "slide_type": "subslide"
    }
   },
   "source": [
    "### Clases\n",
    "\n",
    "* La sentencia `class` crea un nuevo objeto clase y le asigna un nombre. Cuando se corre, genera un nuevo objeto Clase y le asigna el nombre que se encuentra en el header.\n",
    "\n",
    "\n",
    "* Las asignaciones dentro de la declaración de la clase, correponden a los atributos de clase: despues de correr la declaración de la clase, los atributos pueden ser accedidos de la siguiente manera: `objeto.nombre`\n",
    "\n",
    "\n",
    "* Los atributos de clase proveen al objeto estado y comportamiento. Los atributos de clase mantienen la información de su estado y es compartido a todas las instancias de esa clase.\n"
   ]
  },
  {
   "cell_type": "markdown",
   "metadata": {
    "slideshow": {
     "slide_type": "subslide"
    }
   },
   "source": [
    "### Instancias\n",
    "\n",
    "\n",
    "\n",
    "* Llamando a una clase como una función crea una nueva instancia del objeto. Las instancias representan items concretos en el dominio del programa.\n",
    "\n",
    "\n",
    "* Cada instancia hereda los atributos de clase y tienen su propio namespace.\n",
    "\n",
    "\n",
    "* Asignaciones a atributos de `self` en métodos son atributos de instancia. Difieren de una a otra. Dentro de los metodos de la clase, el primer argumento por convención es `self` y referencia a la instancia del objeto que esta siendo procesado."
   ]
  },
  {
   "cell_type": "markdown",
   "metadata": {
    "slideshow": {
     "slide_type": "subslide"
    }
   },
   "source": [
    "### Ejemplo de sintaxis\n",
    "\n",
    "Definir una clase `Punto` que modele un punto que tiene dos coordenadas `x` e `y`.\n",
    "\n",
    "Ademas le podemos pedir que calcule su norma. La norma es la raíz cuadrada de la suma de sus componentes al cuadrado"
   ]
  },
  {
   "cell_type": "code",
   "execution_count": 15,
   "metadata": {
    "collapsed": true,
    "slideshow": {
     "slide_type": "subslide"
    }
   },
   "outputs": [],
   "source": [
    "from math import sqrt\n",
    "\n",
    "class Punto:\n",
    "    \n",
    "    \"\"\" Clase que modela a un punto en el plano. \"\"\"\n",
    "    \n",
    "    def __init__(self, x, y):\n",
    "        \n",
    "        \"\"\" Recibo las coordenadas del punto. \"\"\"\n",
    "            \n",
    "        self.x = x\n",
    "        self.y = y\n",
    "            \n",
    "    def obtener_norma(self):\n",
    "        \n",
    "        \"\"\"Devuelve la distancia al origen.\"\"\"\n",
    "        \n",
    "        return sqrt(self.x**2 + self.y**2)\n",
    "    "
   ]
  },
  {
   "cell_type": "code",
   "execution_count": 16,
   "metadata": {
    "slideshow": {
     "slide_type": "subslide"
    }
   },
   "outputs": [
    {
     "name": "stdout",
     "output_type": "stream",
     "text": [
      "Help on class Punto in module __main__:\n",
      "\n",
      "class Punto\n",
      " |  Clase que modela a un punto en el plano.\n",
      " |  \n",
      " |  Methods defined here:\n",
      " |  \n",
      " |  __init__(self, x, y)\n",
      " |      Recibo las coordenadas del punto.\n",
      " |  \n",
      " |  obtener_norma(self)\n",
      " |      Devuelve la distancia al origen.\n",
      "\n"
     ]
    }
   ],
   "source": [
    "help(Punto)"
   ]
  },
  {
   "cell_type": "markdown",
   "metadata": {
    "slideshow": {
     "slide_type": "slide"
    }
   },
   "source": [
    "## Conceptos de orientación a objetos\n",
    "\n",
    "* Polimorfismo\n",
    "* Herencia\n",
    "* Delegación\n",
    "* Encapsulamiento\n"
   ]
  },
  {
   "cell_type": "markdown",
   "metadata": {
    "slideshow": {
     "slide_type": "slide"
    }
   },
   "source": [
    "### Polimorfismo: ¿necesario en Python?"
   ]
  },
  {
   "cell_type": "markdown",
   "metadata": {
    "slideshow": {
     "slide_type": "fragment"
    }
   },
   "source": [
    "Veamos un ejemplo en Java"
   ]
  },
  {
   "cell_type": "markdown",
   "metadata": {
    "slideshow": {
     "slide_type": "fragment"
    }
   },
   "source": [
    "```Java\n",
    "public interface Coloreable {\n",
    "     void colorear(Color color);\n",
    "}\n",
    "\n",
    "public class Cuadrado implements Coloreable {\n",
    "     private Color color;\n",
    "\n",
    "    public void colorear(Color color) { \n",
    "        this.color = color;\n",
    "    } \n",
    "}\n",
    "```"
   ]
  },
  {
   "cell_type": "markdown",
   "metadata": {
    "slideshow": {
     "slide_type": "subslide"
    }
   },
   "source": [
    "### Recordamos: Python introduce duck-typing"
   ]
  },
  {
   "cell_type": "markdown",
   "metadata": {
    "slideshow": {
     "slide_type": "slide"
    }
   },
   "source": [
    "## Herencia\n",
    "```Python\n",
    "class Padre(object):\n",
    "     ''' Clase base. '''\n",
    "     pass\n",
    "\n",
    "class Hijo(Padre):\n",
    "    ''' Clase que hereda el comportamiento del padre.'''\n",
    "    pass\n",
    "```"
   ]
  },
  {
   "cell_type": "markdown",
   "metadata": {
    "slideshow": {
     "slide_type": "fragment"
    }
   },
   "source": [
    "Veamos un ejemplo"
   ]
  },
  {
   "cell_type": "code",
   "execution_count": 32,
   "metadata": {
    "collapsed": true,
    "slideshow": {
     "slide_type": "subslide"
    }
   },
   "outputs": [],
   "source": [
    "class Padre(object):\n",
    "    \n",
    "    def sobrescrito(self):\n",
    "        print(\"Padre: método sobrescrito\") \n",
    "    \n",
    "    def heredado(self):\n",
    "        print(\"Padre: método heredado.\")\n",
    "        \n",
    "    def alterado(self):\n",
    "        print(\"Padre: método alterado.\")\n",
    "\n",
    "\n",
    "class Hijo(Padre):\n",
    "    \n",
    "    def sobrescrito(self):\n",
    "        print(\"Hijo: método sobrescrito.\")\n",
    "    \n",
    "    def alterado(self):\n",
    "        print(\"Hijo: método alterado antes de invocar al padre.\")\n",
    "        super(Hijo,self).alterado()\n",
    "        print(\"Hijo: método alterado después de invocar al padre.\")\n",
    "\n",
    "        "
   ]
  },
  {
   "cell_type": "code",
   "execution_count": 38,
   "metadata": {
    "collapsed": true,
    "slideshow": {
     "slide_type": "subslide"
    }
   },
   "outputs": [],
   "source": [
    "padre = Padre()\n",
    "hijo = Hijo()"
   ]
  },
  {
   "cell_type": "code",
   "execution_count": 39,
   "metadata": {
    "slideshow": {
     "slide_type": "fragment"
    }
   },
   "outputs": [
    {
     "name": "stdout",
     "output_type": "stream",
     "text": [
      "Padre: método heredado.\n"
     ]
    }
   ],
   "source": [
    "padre.heredado()"
   ]
  },
  {
   "cell_type": "code",
   "execution_count": 40,
   "metadata": {
    "slideshow": {
     "slide_type": "fragment"
    }
   },
   "outputs": [
    {
     "name": "stdout",
     "output_type": "stream",
     "text": [
      "Padre: método heredado.\n"
     ]
    }
   ],
   "source": [
    "hijo.heredado()"
   ]
  },
  {
   "cell_type": "code",
   "execution_count": 41,
   "metadata": {
    "slideshow": {
     "slide_type": "fragment"
    }
   },
   "outputs": [
    {
     "name": "stdout",
     "output_type": "stream",
     "text": [
      "Padre: método sobrescrito\n"
     ]
    }
   ],
   "source": [
    "padre.sobrescrito()"
   ]
  },
  {
   "cell_type": "code",
   "execution_count": 42,
   "metadata": {
    "slideshow": {
     "slide_type": "fragment"
    }
   },
   "outputs": [
    {
     "name": "stdout",
     "output_type": "stream",
     "text": [
      "Hijo: método sobrescrito.\n"
     ]
    }
   ],
   "source": [
    "hijo.sobrescrito()"
   ]
  },
  {
   "cell_type": "code",
   "execution_count": 43,
   "metadata": {
    "slideshow": {
     "slide_type": "fragment"
    }
   },
   "outputs": [
    {
     "name": "stdout",
     "output_type": "stream",
     "text": [
      "Padre: método alterado.\n"
     ]
    }
   ],
   "source": [
    "padre.alterado()"
   ]
  },
  {
   "cell_type": "code",
   "execution_count": 44,
   "metadata": {
    "slideshow": {
     "slide_type": "fragment"
    }
   },
   "outputs": [
    {
     "name": "stdout",
     "output_type": "stream",
     "text": [
      "Hijo: método alterado antes de invocar al padre.\n",
      "Padre: método alterado.\n",
      "Hijo: método alterado después de invocar al padre.\n"
     ]
    }
   ],
   "source": [
    "hijo.alterado()"
   ]
  },
  {
   "cell_type": "markdown",
   "metadata": {
    "slideshow": {
     "slide_type": "slide"
    }
   },
   "source": [
    "### ¿Alternativas?"
   ]
  },
  {
   "cell_type": "markdown",
   "metadata": {
    "slideshow": {
     "slide_type": "subslide"
    }
   },
   "source": [
    "¿Encapsulamiento?"
   ]
  },
  {
   "cell_type": "markdown",
   "metadata": {
    "slideshow": {
     "slide_type": "fragment"
    }
   },
   "source": [
    "¡En Python todos los métodos y atributos son públicos!"
   ]
  },
  {
   "cell_type": "markdown",
   "metadata": {
    "slideshow": {
     "slide_type": "fragment"
    }
   },
   "source": [
    "* Respetamos convenciones."
   ]
  },
  {
   "cell_type": "markdown",
   "metadata": {
    "slideshow": {
     "slide_type": "fragment"
    }
   },
   "source": [
    "* Usamos Properties."
   ]
  },
  {
   "cell_type": "markdown",
   "metadata": {
    "slideshow": {
     "slide_type": "subslide"
    }
   },
   "source": [
    "### Convenciones: en PEP8"
   ]
  },
  {
   "cell_type": "code",
   "execution_count": 57,
   "metadata": {
    "collapsed": true,
    "slideshow": {
     "slide_type": "fragment"
    }
   },
   "outputs": [],
   "source": [
    "CONSTANTE_A = 4\n",
    "CONSTANTE_B = 2\n",
    "\n",
    "class ClaseDeEjemplo:\n",
    "        ''' Clase que sirve de ejemplo. '''\n",
    "        def __init__(self, a = CONSTANTE_A, b = CONSTANTE_B):\n",
    "                self.atributo_publico_a = a\n",
    "                self.atributo_publico_b = b \n",
    "                self.__atributo_privado_c = a + b\n",
    "                \n",
    "        def metodo_publico(self):\n",
    "                return self.atributo_publico_a == CONSTANTE_A and \\\n",
    "                self.atributo_publico_b == CONSTANTE_A\n",
    "        \n",
    "        def __metodo_privado(self):\n",
    "                return self.atributo_publico_a == CONSTANTE_B and \\\n",
    "                self.atributo_publico_b == CONSTANTE_A\n",
    "                \n"
   ]
  },
  {
   "cell_type": "markdown",
   "metadata": {
    "collapsed": true,
    "slideshow": {
     "slide_type": "subslide"
    }
   },
   "source": [
    "### Una clase más sencilla..."
   ]
  },
  {
   "cell_type": "code",
   "execution_count": 46,
   "metadata": {
    "collapsed": true
   },
   "outputs": [],
   "source": [
    "CONSTANTE_A = 4\n",
    "class OtraClaseDeEjemplo(object):\n",
    "      \n",
    "    def __init__(self, a = CONSTANTE_A):\n",
    "        self.a = a\n",
    "    \n",
    "    def atributo_al_cuadrado(self): \n",
    "        return self.a ** 2"
   ]
  },
  {
   "cell_type": "code",
   "execution_count": 38,
   "metadata": {
    "slideshow": {
     "slide_type": "fragment"
    }
   },
   "outputs": [
    {
     "name": "stdout",
     "output_type": "stream",
     "text": [
      "clase.atributo_al_cuadrado:  16\n",
      "Atributo a: 4\n",
      "clase.atributo_al_cuadrado:  121\n"
     ]
    }
   ],
   "source": [
    "clase = OtraClaseDeEjemplo()\n",
    "print \"clase.atributo_al_cuadrado: \", clase.atributo_al_cuadrado()\n",
    "print \"Atributo a:\", clase.a # Obtengo atributo a\n",
    "clase.a = 11 # Seteo atributo a\n",
    "print \"clase.atributo_al_cuadrado: \", clase.atributo_al_cuadrado()"
   ]
  },
  {
   "cell_type": "markdown",
   "metadata": {
    "slideshow": {
     "slide_type": "subslide"
    }
   },
   "source": [
    "### ¿Si quiero hacer que haya un máximo valor a almacenar?\n",
    "\n",
    "**Problema: al hacer `clase.a = 11`, si nuestro máximo es `10` no tenemos forma de verificarlo...**"
   ]
  },
  {
   "cell_type": "markdown",
   "metadata": {
    "slideshow": {
     "slide_type": "subslide"
    }
   },
   "source": [
    "### Solución 1: Agregar métodos `get_a` y `set_a`"
   ]
  },
  {
   "cell_type": "code",
   "execution_count": 6,
   "metadata": {
    "collapsed": true
   },
   "outputs": [],
   "source": [
    "CONSTANTE_A = 4\n",
    "MAX_A = 10\n",
    "class OtraClaseDeEjemplo(object):\n",
    "    def __init__(self, a = CONSTANTE_A):\n",
    "        self.a = a\n",
    "        \n",
    "    def get_a(self):\n",
    "        return self.a\n",
    "    \n",
    "    def set_a(self, a):\n",
    "        self.a = min(a, MAX_A)\n",
    "\n",
    "    def atributo_al_cuadrado(self):\n",
    "        return self.a ** 2"
   ]
  },
  {
   "cell_type": "markdown",
   "metadata": {
    "slideshow": {
     "slide_type": "fragment"
    }
   },
   "source": [
    "**Problema:**\n",
    "- **Si se hace `clase.a = 11`, nuevamente tenemos el mismo problema.**\n",
    "- **Si tenemos código previo que accede con `clase.a`, hay que actualizarlo todo por `clase.get_a`. **"
   ]
  },
  {
   "cell_type": "markdown",
   "metadata": {
    "slideshow": {
     "slide_type": "subslide"
    }
   },
   "source": [
    "### Solución 2: Usar `property`"
   ]
  },
  {
   "cell_type": "code",
   "execution_count": 87,
   "metadata": {
    "collapsed": true
   },
   "outputs": [],
   "source": [
    "CONSTANTE_A = 4\n",
    "MAX_A = 10\n",
    "class OtraClaseDeEjemplo(object):\n",
    "    \n",
    "    def __init__(self, a = CONSTANTE_A):\n",
    "        \n",
    "        self.set_a(a) # _a la usamos como atributo privado \n",
    "        \n",
    "        \n",
    "    def get_a(self):\n",
    "        return self._a\n",
    "    \n",
    "    def set_a(self, a):\n",
    "        self._a = min(a, MAX_A)\n",
    "\n",
    "    def atributo_al_cuadrado(self):\n",
    "        return self._a ** 2\n",
    "    \n",
    "    a = property(get_a) # a lo usamos como atributo publico\n",
    "    "
   ]
  },
  {
   "cell_type": "markdown",
   "metadata": {
    "slideshow": {
     "slide_type": "fragment"
    }
   },
   "source": [
    "**Esto permite que al hacer:**\n",
    "- **`clase.a` se llame a la función `fget()` (en este caso `get_a`)**\n",
    "- **`clase.a = x` se llame a la función `fset(x)` (en este caso `set_a`)**"
   ]
  },
  {
   "cell_type": "code",
   "execution_count": 10,
   "metadata": {
    "slideshow": {
     "slide_type": "subslide"
    }
   },
   "outputs": [
    {
     "name": "stdout",
     "output_type": "stream",
     "text": [
      "clase.atributo_al_cuadrado:  16\n",
      "Atributo a: 4\n",
      "clase.atributo_al_cuadrado:  100\n"
     ]
    }
   ],
   "source": [
    "clase = OtraClaseDeEjemplo()\n",
    "print \"clase.atributo_al_cuadrado: \", clase.atributo_al_cuadrado()\n",
    "print \"Atributo a:\", clase.a # Obtengo atributo a\n",
    "clase.a = 11 # Seteo atributo a\n",
    "print \"clase.atributo_al_cuadrado: \", clase.atributo_al_cuadrado()"
   ]
  },
  {
   "cell_type": "markdown",
   "metadata": {
    "slideshow": {
     "slide_type": "subslide"
    }
   },
   "source": [
    "### Solución 3: Usar `decorators`"
   ]
  },
  {
   "cell_type": "code",
   "execution_count": 1,
   "metadata": {
    "slideshow": {
     "slide_type": "-"
    }
   },
   "outputs": [
    {
     "name": "stdout",
     "output_type": "stream",
     "text": [
      "10\n"
     ]
    }
   ],
   "source": [
    "CONSTANTE_A = 4\n",
    "MAX_A = 10\n",
    "class OtraClaseDeEjemplo(object):\n",
    "    def __init__(self, a = CONSTANTE_A):\n",
    "        self.a = a\n",
    "        \n",
    "    @property\n",
    "#    @a.getter\n",
    "    def a(self):\n",
    "        return self._a\n",
    "#    a = property(a)\n",
    "    \n",
    "    @a.setter\n",
    "    def a(self, a):\n",
    "        self._a = min(a, MAX_A)\n",
    "\n",
    "    def atributo_al_cuadrado(self):\n",
    "        return self.a ** 2\n",
    "    \n",
    "ej1 = OtraClaseDeEjemplo()\n",
    "ej2 = OtraClaseDeEjemplo()\n",
    "ej1.a = 30\n",
    "print ej1.a"
   ]
  },
  {
   "cell_type": "markdown",
   "metadata": {
    "slideshow": {
     "slide_type": "fragment"
    }
   },
   "source": [
    "** Es equivalente a la Solusión 3, no requiere definir una variable `self._a`**  \n",
    "** Nota: usa decorators, el concepto no entra dentro del scope del curso, si hay tiempo lo vemos al final**"
   ]
  },
  {
   "cell_type": "code",
   "execution_count": 58,
   "metadata": {
    "slideshow": {
     "slide_type": "subslide"
    }
   },
   "outputs": [
    {
     "name": "stdout",
     "output_type": "stream",
     "text": [
      "clase.atributo_al_cuadrado:  16\n",
      "Atributo a: 4\n",
      "clase.atributo_al_cuadrado:  100\n"
     ]
    }
   ],
   "source": [
    "clase = OtraClaseDeEjemplo()\n",
    "print \"clase.atributo_al_cuadrado: \", clase.atributo_al_cuadrado()\n",
    "print \"Atributo a:\", clase.a # Obtengo atributo a\n",
    "clase.a = 11 # Seteo atributo a\n",
    "print \"clase.atributo_al_cuadrado: \", clase.atributo_al_cuadrado()"
   ]
  },
  {
   "cell_type": "markdown",
   "metadata": {
    "slideshow": {
     "slide_type": "subslide"
    }
   },
   "source": [
    "### Ejercicio 4.1\n",
    "\n",
    "Implementar la clase Vector que reciba en el constructor los valores de las coordenadas e implemente los métodos:\n",
    "* sumar, que recibe por parámetro otro Vector y devuelve una nueva instancia con la suma.\n",
    "* producto_numero, que recibe por parámetro un número y devuelve una nueva instancia con las coordenadas multiplicadas por el número."
   ]
  },
  {
   "cell_type": "markdown",
   "metadata": {
    "slideshow": {
     "slide_type": "subslide"
    }
   },
   "source": [
    "### Solución 4.1"
   ]
  },
  {
   "cell_type": "code",
   "execution_count": 60,
   "metadata": {
    "collapsed": true
   },
   "outputs": [],
   "source": [
    "class Vector(object):\n",
    "    ''' Clase que modela un vector. '''\n",
    "    def __init__(self, *coordenadas, **lista_coordenadas): \n",
    "        self.coordenadas = \\\n",
    "        lista_coordenadas.get(\"coordenadas\", list(coordenadas))\n",
    "\n",
    "    def sumar(self, otro):\n",
    "        ''' Suma dos vectores del mismo largo. '''\n",
    "        coord_1 = self.coordenadas\n",
    "        coord_2 = otro.coordenadas\n",
    "        return Vector(coordenadas = \\\n",
    "               [ x + y for x, y in zip(coord_1, coord_2) ])\n",
    "    \n",
    "    def producto_numero(self, numero):\n",
    "       ''' Multiplica al vector por un escalar. '''\n",
    "       return Vector(coordenadas = \\\n",
    "                     [ x * numero for x in self.coordenadas])"
   ]
  },
  {
   "cell_type": "markdown",
   "metadata": {
    "slideshow": {
     "slide_type": "slide"
    }
   },
   "source": [
    "## Métodos Mágicos!\n",
    "\n",
    "Se invocan automáticamente cuando usamos cierta sintaxis sobre algún tipo que los tenga definidos."
   ]
  },
  {
   "cell_type": "markdown",
   "metadata": {
    "slideshow": {
     "slide_type": "subslide"
    }
   },
   "source": [
    "|Uso|Sintaxis|Método Mágico|\n",
    "|:---:|:---:|:---:|\n",
    "|Inicializar instancias.|v = Vector(1,2,3)|\\_\\_init\\_\\_|\n",
    "|Representación de impresión.|str(v), print(v)|\\_\\_str\\_\\_|\n",
    "|Representación formal.|repr(v)|\\_\\_repr\\_\\_|\n",
    "|Iterar una secuencia.|iter(secuencia)|\\_\\_iter\\_\\_|\n",
    "|Obtener el siguiente de un iterador.|next(secuencia)|\\_\\_next\\_\\_|\n",
    "|Obtener el largo.|len(secuencia)|\\_\\_len\\_\\_|\n",
    "|Verificar pertenencia.|elemento in secuencia|\\_\\_contains\\_\\_|\n",
    "|Verificar igualdad.|x == y|\\_\\_eq\\_\\_|\n",
    "|Verificar desigualdad.|x != y|\\_\\_ne\\_\\_|\n",
    "|Verificar por menor / menor o igual.|x<y x / <= y|\\_\\_lt\\_\\_ / \\_\\_le\\_\\_|\n",
    "|Verificar por mayor / mayor o igual.|x>y x / >= y|\\_\\_gt\\_\\_ / \\_\\_ge\\_\\_|\n",
    "|Verificar valor de verdad.|if x:|\\_\\_bool\\_\\_|"
   ]
  },
  {
   "cell_type": "markdown",
   "metadata": {
    "slideshow": {
     "slide_type": "subslide"
    }
   },
   "source": [
    "### Ejercicio 4.2\n",
    "\n",
    "Implementar en la clase Vector los métodos de representación, representación en cadena e igualdad y no igualdad\n",
    "\n",
    "```Python\n",
    "__str__ \n",
    "__repr__\n",
    "__eq__\n",
    "__ne__\n",
    "```"
   ]
  },
  {
   "cell_type": "markdown",
   "metadata": {
    "slideshow": {
     "slide_type": "subslide"
    }
   },
   "source": [
    "### Solución 4.2"
   ]
  },
  {
   "cell_type": "code",
   "execution_count": 100,
   "metadata": {
    "collapsed": true
   },
   "outputs": [],
   "source": [
    "class Vector:\n",
    "    ''' Clase que modela un vector. '''\n",
    "\n",
    "    def __init__(self, a, b):\n",
    "        self.x = a\n",
    "        self.y = b\n",
    "        \n",
    "    def __add__(self, otro):\n",
    "        ''' Suma dos vectores '''\n",
    "        return Vector(self.x + otro.y, self.y + otro.y)\n",
    " \n",
    "    def __mul__(self, escalar):\n",
    "        ''' Multiplica al vector por un escalar. '''\n",
    "        return Vector(self.x * escalar, self.y * escalar) \n",
    "    \n",
    "    def __str__(self):\n",
    "        return \"(\"+str(self.x)+\",\"+str(self.y)+\")\"\n",
    "    \n",
    "    def __repr__(self):\n",
    "        return \"(\"+str(self.x)+\",\"+str(self.y)+\")\""
   ]
  },
  {
   "cell_type": "markdown",
   "metadata": {
    "slideshow": {
     "slide_type": "subslide"
    }
   },
   "source": [
    "|Uso|Sintaxis|Método Mágico|\n",
    "|:---:|:---:|:---:|\n",
    "|Sumar. |x+y|\\_\\_add\\_\\_|\n",
    "|Restar. |x–y|\\_\\_sub\\_\\_|\n",
    "|Multiplicar.|x*y|\\_\\_mul\\_\\_|\n",
    "|Dividir.|x/y|\\_\\_truediv\\_\\_|\n",
    "|Dividir truncando.|x // y|\\_\\_floordiv\\_\\_|"
   ]
  },
  {
   "cell_type": "markdown",
   "metadata": {
    "slideshow": {
     "slide_type": "subslide"
    }
   },
   "source": [
    "## Ejercicio 4.3 \n",
    "\n",
    "Sobrecargar los operadores de “+” y “\\*” de la clase Vector para que implementen la suma y multiplicación respectivamente.\n",
    "\n",
    "```Python\n",
    "v1 = Vector(1,2)\n",
    "v2 = Vector(5,6)\n",
    "print v1 + v2 #(6,8)\n",
    "print v1 * v2 #(5,12)\n",
    "```"
   ]
  },
  {
   "cell_type": "markdown",
   "metadata": {
    "slideshow": {
     "slide_type": "subslide"
    }
   },
   "source": [
    "### Solución 4.3"
   ]
  },
  {
   "cell_type": "code",
   "execution_count": 113,
   "metadata": {},
   "outputs": [
    {
     "name": "stdout",
     "output_type": "stream",
     "text": [
      "(5,7)\n"
     ]
    }
   ],
   "source": [
    "class Vector:\n",
    "    ''' Clase que modela un vector. '''\n",
    "\n",
    "    def __init__(self, a, b):\n",
    "        self.x = a\n",
    "        self.y = b\n",
    "        \n",
    "    def __add__(self, otro):\n",
    "        ''' Suma dos vectores '''\n",
    "        return Vector(self.x + otro.x, self.y + otro.y)\n",
    "\n",
    "    def __mul__(self, otro):\n",
    "        ''' Multiplica al vector por un escalar. '''\n",
    "        return Vector(self.x * otro.x, self.y * otro.y) \n",
    "    \n",
    "    def __str__(self):\n",
    "        return \"(\"+str(self.x)+\",\"+str(self.y)+\")\"\n",
    "    \n",
    "    def __repr__(self):\n",
    "        return \"(\"+str(self.x)+\",\"+str(self.y)+\")\" \n",
    "    \n",
    "v1 = Vector(1,4)\n",
    "v2 = Vector(4,3)\n",
    "print v1 + v2\n"
   ]
  },
  {
   "cell_type": "markdown",
   "metadata": {
    "collapsed": true,
    "slideshow": {
     "slide_type": "slide"
    }
   },
   "source": [
    "## Excepciones\n",
    "\n",
    "* Permiten manejar flujo excepcional en tiempo de ejecución.\n",
    "* Las excepciones en Python son objetos, instancias de alguna derivada de BaseException."
   ]
  },
  {
   "cell_type": "markdown",
   "metadata": {
    "slideshow": {
     "slide_type": "subslide"
    }
   },
   "source": [
    "### Sintaxis para lanzar una excepción\n",
    "```Python\n",
    "raise NombreException(\"mensaje error\")\n",
    "Ej: \n",
    "raise ValueError(\"Parametro invalido\")\n",
    "```"
   ]
  },
  {
   "cell_type": "markdown",
   "metadata": {
    "slideshow": {
     "slide_type": "fragment"
    }
   },
   "source": [
    "### Sintaxis para  una manejar el flujo\n",
    "\n",
    "```Python\n",
    "try:\n",
    "    ...\n",
    "except Ex1 as e1:\n",
    "    ...\n",
    "except (Ex2, Ex3):\n",
    "     ...\n",
    "else:\n",
    "    ...\n",
    "finally:\n",
    "    ...\n",
    "```"
   ]
  },
  {
   "cell_type": "markdown",
   "metadata": {
    "slideshow": {
     "slide_type": "subslide"
    }
   },
   "source": [
    "#### Tipos de excepciones definidas por Python:\n",
    "\n",
    "```\n",
    "BaseException\n",
    "+-- SystemExit\n",
    "+-- KeyboardInterrupt +-- GeneratorExit +-- Exception\n",
    "...\n",
    "+-- StopIteration +-- ArithmeticError\n",
    "| +-- FloatingPointError\n",
    "| +-- OverflowError\n",
    "| +-- ZeroDivisionError +-- AssertionError\n",
    "+-- AttributeError\n",
    "+-- BufferError\n",
    "+-- EOFError\n",
    "+-- ImportError\n",
    "```"
   ]
  },
  {
   "cell_type": "markdown",
   "metadata": {
    "slideshow": {
     "slide_type": "subslide"
    }
   },
   "source": [
    "## Ejercicio 4.4\n",
    "\n",
    "Implementar en la suma de Vectores la validación de coordenadas, levantando una excepción de tipo **ValueError** si alguna de las coordenadas del segundo vector es mayor a la del primero.\n",
    "\n",
    "```\n",
    "(1,3)+(2,3) -> ValueError\n",
    "(1,3)+(1,1) -> (2,4) OK!\n",
    "```"
   ]
  },
  {
   "cell_type": "markdown",
   "metadata": {
    "slideshow": {
     "slide_type": "subslide"
    }
   },
   "source": [
    "## Solución 4.4"
   ]
  },
  {
   "cell_type": "code",
   "execution_count": 121,
   "metadata": {
    "collapsed": true,
    "slideshow": {
     "slide_type": "subslide"
    }
   },
   "outputs": [],
   "source": [
    "import traceback\n",
    "class Vector:\n",
    "    ''' Clase que modela un vector. '''\n",
    "\n",
    "    def __init__(self, a, b):\n",
    "        self.x = a\n",
    "        self.y = b\n",
    "        \n",
    "    def __add__(self, otro):\n",
    "        ''' Suma dos vectores '''\n",
    "        if(otro.x > self.x or otro.y > self.y):\n",
    "            raise ValueError(\"No se puede sumar un vector mas grande\")\n",
    "        return Vector(self.x + otro.y, self.y + otro.y)\n",
    "\n",
    "    def __mul__(self, escalar):\n",
    "        ''' Multiplica al vector por un escalar. '''\n",
    "        return Vector(self.x * escalar, self.y * escalar) \n",
    "    \n",
    "    def __str__(self):\n",
    "        return \"(\"+str(self.x)+\",\"+str(self.y)+\")\"\n",
    "    \n",
    "    def __repr__(self):\n",
    "        return \"(\"+str(self.x)+\",\"+str(self.y)+\")\"\n",
    "\n",
    "v1 = Vector(1,3)\n",
    "v2 = Vector(2,3)\n",
    "v3 = Vector(1,1)"
   ]
  },
  {
   "cell_type": "markdown",
   "metadata": {
    "slideshow": {
     "slide_type": "subslide"
    }
   },
   "source": [
    "### Excepciones definidas por el usuario"
   ]
  },
  {
   "cell_type": "markdown",
   "metadata": {
    "slideshow": {
     "slide_type": "fragment"
    }
   },
   "source": [
    "```Python\n",
    "class ExcepcionDeReglaDeNegocio(Exception):\n",
    "    pass\n",
    "```"
   ]
  },
  {
   "cell_type": "markdown",
   "metadata": {
    "slideshow": {
     "slide_type": "subslide"
    }
   },
   "source": [
    "### Ejemplo de uso"
   ]
  },
  {
   "cell_type": "markdown",
   "metadata": {
    "slideshow": {
     "slide_type": "fragment"
    }
   },
   "source": [
    "```Python\n",
    "    CONSTANTE_A = 4\n",
    "    MAX_A = 10\n",
    "    class OtraClaseDeEjemplo:\n",
    "        def __init__(self, a = CONSTANTE_A):\n",
    "            if a > MAX_A:\n",
    "                raise ExcepcionDeReglaDeNegocio(\"Valor de 'a' muy grande.\")\n",
    "        self._a = a\n",
    "    \n",
    "        def atributo_al_cuadrado(self):\n",
    "            return self.a ** 2\n",
    "    ```"
   ]
  },
  {
   "cell_type": "markdown",
   "metadata": {
    "slideshow": {
     "slide_type": "slide"
    }
   },
   "source": [
    "## Aserciones\n",
    "\n",
    "Levantan una excepción del tipo `AssertionError` si no se cumple una condición."
   ]
  },
  {
   "cell_type": "markdown",
   "metadata": {
    "slideshow": {
     "slide_type": "fragment"
    }
   },
   "source": [
    "Se usan para encontrar errores en la etapa de desarrollo de los cuales no se espera recuperar por ejemplo, ruptura de invariantes."
   ]
  },
  {
   "cell_type": "markdown",
   "metadata": {
    "slideshow": {
     "slide_type": "subslide"
    }
   },
   "source": [
    "### Sintaxis\n",
    "\n",
    "```Python\n",
    "assert expresion\n",
    "```"
   ]
  },
  {
   "cell_type": "markdown",
   "metadata": {
    "slideshow": {
     "slide_type": "fragment"
    }
   },
   "source": [
    "Equivalente a:\n",
    "    \n",
    "```Python\n",
    "if __debug__:\n",
    "    if not expresion:\n",
    "        raise AssertionError\n",
    "```"
   ]
  },
  {
   "cell_type": "markdown",
   "metadata": {
    "slideshow": {
     "slide_type": "subslide"
    }
   },
   "source": [
    "### Ejemplo de uso"
   ]
  },
  {
   "cell_type": "code",
   "execution_count": 123,
   "metadata": {
    "collapsed": true,
    "slideshow": {
     "slide_type": "fragment"
    }
   },
   "outputs": [],
   "source": [
    "\n",
    "def pedir_numero_positivo():\n",
    "\n",
    "    ''' Programa que devuelve un número positivo ingresado por el usuario.'''\n",
    "\n",
    "    numero = int(raw_input(\"Ingrese un número positivo\"))\n",
    "    assert int(numero) > 0\n",
    "    return int(numero)\n"
   ]
  },
  {
   "cell_type": "code",
   "execution_count": 125,
   "metadata": {
    "slideshow": {
     "slide_type": "fragment"
    }
   },
   "outputs": [
    {
     "name": "stdout",
     "output_type": "stream",
     "text": [
      "Ingrese un número positivo-32\n"
     ]
    },
    {
     "ename": "AssertionError",
     "evalue": "",
     "output_type": "error",
     "traceback": [
      "\u001b[0;31m---------------------------------------------------------------------------\u001b[0m",
      "\u001b[0;31mAssertionError\u001b[0m                            Traceback (most recent call last)",
      "\u001b[0;32m<ipython-input-125-96f2de201bc2>\u001b[0m in \u001b[0;36m<module>\u001b[0;34m()\u001b[0m\n\u001b[0;32m----> 1\u001b[0;31m \u001b[0mpedir_numero_positivo\u001b[0m\u001b[0;34m(\u001b[0m\u001b[0;34m)\u001b[0m\u001b[0;34m\u001b[0m\u001b[0m\n\u001b[0m",
      "\u001b[0;32m<ipython-input-123-a5303b5da4e5>\u001b[0m in \u001b[0;36mpedir_numero_positivo\u001b[0;34m()\u001b[0m\n\u001b[1;32m      5\u001b[0m \u001b[0;34m\u001b[0m\u001b[0m\n\u001b[1;32m      6\u001b[0m     \u001b[0mnumero\u001b[0m \u001b[0;34m=\u001b[0m \u001b[0mint\u001b[0m\u001b[0;34m(\u001b[0m\u001b[0mraw_input\u001b[0m\u001b[0;34m(\u001b[0m\u001b[0;34m\"Ingrese un número positivo\"\u001b[0m\u001b[0;34m)\u001b[0m\u001b[0;34m)\u001b[0m\u001b[0;34m\u001b[0m\u001b[0m\n\u001b[0;32m----> 7\u001b[0;31m     \u001b[0;32massert\u001b[0m \u001b[0mint\u001b[0m\u001b[0;34m(\u001b[0m\u001b[0mnumero\u001b[0m\u001b[0;34m)\u001b[0m \u001b[0;34m>\u001b[0m \u001b[0;36m0\u001b[0m\u001b[0;34m\u001b[0m\u001b[0m\n\u001b[0m\u001b[1;32m      8\u001b[0m     \u001b[0;32mreturn\u001b[0m \u001b[0mint\u001b[0m\u001b[0;34m(\u001b[0m\u001b[0mnumero\u001b[0m\u001b[0;34m)\u001b[0m\u001b[0;34m\u001b[0m\u001b[0m\n",
      "\u001b[0;31mAssertionError\u001b[0m: "
     ]
    }
   ],
   "source": [
    "pedir_numero_positivo()"
   ]
  },
  {
   "cell_type": "markdown",
   "metadata": {
    "slideshow": {
     "slide_type": "slide"
    }
   },
   "source": [
    "### Ejercicios Complementarios"
   ]
  },
  {
   "cell_type": "markdown",
   "metadata": {
    "slideshow": {
     "slide_type": "subslide"
    }
   },
   "source": [
    "### Ejercicio 4.5\n",
    "\n",
    "**Fracciones**\n",
    "\n",
    "a) Crear una clase Fraccion, que cuente con dos atributos: dividendo y divisor, que se\n",
    "asignan en el constructor, y se imprimen como X/Y en el método `__str__`.\n",
    "\n",
    "\n",
    "b) Crear un método sumar `__add__` que recibe otra fracción y devuelve una nueva fracción con la\n",
    "suma de ambas. Ej: `f1 + f2`\n",
    "\n",
    "\n",
    "c) Crear un método multiplicar `__mul__` que recibe otra fracción y devuelve una nueva fracción con el producto de ambas. Ej: `f1 * f2`\n",
    "\n",
    "\n",
    "d) Crear un método simplificar que modifica la fracción actual de forma que los valores del dividendo y divisor sean los menores posibles."
   ]
  },
  {
   "cell_type": "markdown",
   "metadata": {
    "slideshow": {
     "slide_type": "subslide"
    }
   },
   "source": [
    "### Ejercicio 4.6\n",
    "\n",
    "**Botella y Sacacorchos**\n",
    "\n",
    "\n",
    "a) Escribir una clase Corcho, que contenga un atributo bodega (cadena con el nombre de la\n",
    "bodega).\n",
    "\n",
    "\n",
    "b) Escribir una clase Botella que contenga un atributo corcho con una referencia al corcho\n",
    "que la tapa, o None si está destapada.\n",
    "\n",
    "\n",
    "c) Escribir una clase Sacacorchos que tenga un método destapar que le reciba una botella, le saque el corcho y se guarde una referencia al corcho sacado. Debe lanzar una excepción en el caso en que la botella ya esté destapada, o si el sacacorchos ya contiene un corcho.\n",
    "\n",
    "\n",
    "d) Agregar un método limpiar, que saque el corcho del sacacorchos, o lance una excepción en el caso en el que no haya un corcho."
   ]
  },
  {
   "cell_type": "markdown",
   "metadata": {
    "slideshow": {
     "slide_type": "subslide"
    }
   },
   "source": [
    "### Ejercicio 4.7\n",
    "\n",
    "**Papel, Birome, Marcador**\n",
    "\n",
    "\n",
    "a) Escribir una clase Papel que contenga un texto, un método escribir, que reciba una cadena para agregar al texto, y el método __str__ que imprima el contenido del texto.\n",
    "\n",
    "\n",
    "b) Escribir una clase Birome que contenga una cantidad de tinta, y un método escribir, que reciba un texto y un papel sobre el cual escribir. Cada letra escrita debe reducir la cantidad de tinta contenida. Cuando la tinta se acabe, debe lanzar una excepción.\n",
    "\n",
    "\n",
    "c) Escribir una clase Marcador que herede de Birome, y agregue el método recargar, que reciba la cantidad de tinta a agregar."
   ]
  },
  {
   "cell_type": "markdown",
   "metadata": {
    "slideshow": {
     "slide_type": "slide"
    }
   },
   "source": [
    "## Próxima Clase\n",
    "\n",
    "* TDD: diseño guiado por pruebas.\n",
    "* Más sobre orientación a objetos.\n",
    "* ¡Práctica!"
   ]
  }
 ],
 "metadata": {
  "celltoolbar": "Slideshow",
  "kernelspec": {
   "display_name": "Python 2",
   "language": "python",
   "name": "python2"
  },
  "language_info": {
   "codemirror_mode": {
    "name": "ipython",
    "version": 2
   },
   "file_extension": ".py",
   "mimetype": "text/x-python",
   "name": "python",
   "nbconvert_exporter": "python",
   "pygments_lexer": "ipython2",
   "version": "2.7.13"
  }
 },
 "nbformat": 4,
 "nbformat_minor": 2
}
